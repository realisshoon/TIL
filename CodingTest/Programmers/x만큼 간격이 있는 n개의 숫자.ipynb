{
 "cells": [
  {
   "cell_type": "code",
   "execution_count": 11,
   "id": "0cb1683c",
   "metadata": {},
   "outputs": [],
   "source": [
    "def solution01(x, n):\n",
    "    answer = []\n",
    "    for i in range(n):\n",
    "        answer.append((i+1)*x)\n",
    "    return answer"
   ]
  },
  {
   "cell_type": "code",
   "execution_count": 14,
   "id": "ddbedfaf",
   "metadata": {},
   "outputs": [
    {
     "name": "stdout",
     "output_type": "stream",
     "text": [
      "[2, 4, 6, 8, 10]\n"
     ]
    }
   ],
   "source": [
    "# 다른 사람 풀이\n",
    "def number_generator(x,n):\n",
    "    return [i*x+x for i in range(n)]\n",
    "print(number_generator(2,5))"
   ]
  }
 ],
 "metadata": {
  "kernelspec": {
   "display_name": "Python 3 (ipykernel)",
   "language": "python",
   "name": "python3"
  },
  "language_info": {
   "codemirror_mode": {
    "name": "ipython",
    "version": 3
   },
   "file_extension": ".py",
   "mimetype": "text/x-python",
   "name": "python",
   "nbconvert_exporter": "python",
   "pygments_lexer": "ipython3",
   "version": "3.9.13"
  }
 },
 "nbformat": 4,
 "nbformat_minor": 5
}
