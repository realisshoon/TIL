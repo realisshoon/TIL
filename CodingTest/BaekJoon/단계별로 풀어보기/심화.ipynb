{
 "cells": [
  {
   "cell_type": "markdown",
   "metadata": {},
   "source": [
    "## 11718 문자 그대로 출력"
   ]
  },
  {
   "cell_type": "code",
   "execution_count": null,
   "metadata": {},
   "outputs": [],
   "source": [
    "import sys\n",
    "\n",
    "while True:\n",
    "    try:\n",
    "        print(input())\n",
    "    except EOFError:\n",
    "        break \n",
    "        "
   ]
  },
  {
   "cell_type": "code",
   "execution_count": null,
   "metadata": {},
   "outputs": [],
   "source": [
    "import sys\n",
    "\n",
    "s=sys.stdin.readlines() # 문자열을 한 번에 가져와야하기 때문에\n",
    "for i in s:\n",
    "    print(i.rstrip) # readlines는 뒤쪽의 개행문자(ex: \\n)까지 가져오기 때문에 사용\n"
   ]
  },
  {
   "cell_type": "markdown",
   "metadata": {},
   "source": [
    "## 2444 별찍기\n",
    "\n",
    "- 첫째줄부터 2*N-1 줄까지 차례대로 별을 출력 "
   ]
  },
  {
   "cell_type": "code",
   "execution_count": 13,
   "metadata": {},
   "outputs": [
    {
     "name": "stdout",
     "output_type": "stream",
     "text": [
      "    *\n",
      "   ***\n",
      "  *****\n",
      " *******\n",
      "*********\n",
      " *******\n",
      "  *****\n",
      "   ***\n",
      "    *\n"
     ]
    }
   ],
   "source": [
    "n=int(input())\n",
    "h=2*n-1\n",
    "\n",
    "# 윗삼각형\n",
    "for i in range(1,h+1,2):\n",
    "    u_spaces=' '*((h-i)//2)\n",
    "    u_stars='*'*i\n",
    "    print(u_spaces+u_stars)\n",
    "\n",
    "# 아래삼각형\n",
    "for j in range(h-2,0,-2):\n",
    "    d_spaces=' '*((h-j)//2)\n",
    "    d_stars='*'*j\n",
    "    print(d_spaces+d_stars)\n"
   ]
  },
  {
   "cell_type": "markdown",
   "metadata": {},
   "source": [
    "## 10988 팰린드롬인지 확인하기\n",
    "- 팰린드롬 : 앞에서 읽을 때랑 뒤에서 읽을 때 같은 단어 (기러기,스위스,토마토,우영우 ...등)\n",
    "- 입력 : 소문자로만 이루어진 영어단어"
   ]
  },
  {
   "cell_type": "code",
   "execution_count": 16,
   "metadata": {},
   "outputs": [
    {
     "name": "stdout",
     "output_type": "stream",
     "text": [
      "1\n"
     ]
    }
   ],
   "source": [
    "word=list(input())\n",
    "revers_word=word[::-1]\n",
    "\n",
    "if word == revers_word:\n",
    "    print(1)\n",
    "else :\n",
    "    print(0)"
   ]
  },
  {
   "cell_type": "markdown",
   "metadata": {},
   "source": [
    "## 1157 단어 공부\n",
    "\n",
    "#### 집합 자료형 (set)\n",
    "\n",
    "- 중복 없음\n",
    "- 순서가 없음\n",
    "- 리스트나 튜플은 순서가 있어 인덱싱읕 통해 데이터 값을 얻을 수 있지만,\n",
    "`dictionary`와 `set`는 순서가 없어서 인덱싱을 지원하지 않는다.\n",
    "    - 인덱싱을 사용하려면 가능한 자료형으로 변환 후 사용해야함\n",
    "- `중복제거를 위한 필터`"
   ]
  },
  {
   "cell_type": "code",
   "execution_count": 7,
   "metadata": {},
   "outputs": [
    {
     "name": "stdout",
     "output_type": "stream",
     "text": [
      "E\n"
     ]
    }
   ],
   "source": [
    "word=input().upper()\n",
    "word_list=list(set(word))\n",
    "cnt=[]\n",
    "\n",
    "for i in word_list:\n",
    "    count=word.count(i)\n",
    "    cnt.append(count)\n",
    "if cnt.count(max(cnt))>=2:\n",
    "    print(\"?\")\n",
    "else:\n",
    "    print(word_list[cnt.index(max(cnt))])"
   ]
  },
  {
   "cell_type": "markdown",
   "metadata": {},
   "source": [
    "# 2941 크로아티아 알파벳"
   ]
  },
  {
   "cell_type": "code",
   "execution_count": 2,
   "metadata": {},
   "outputs": [
    {
     "name": "stdout",
     "output_type": "stream",
     "text": [
      "5\n"
     ]
    }
   ],
   "source": [
    "crot=['c=','c-','dz=','d-','lj','nj','s=',\"z=\"]\n",
    "alpha= input()\n",
    "\n",
    "\n",
    "for i in crot:\n",
    "    alpha=alpha.replace(i,\"0\")\n",
    "\n",
    "print(len(alpha))\n"
   ]
  },
  {
   "cell_type": "markdown",
   "metadata": {},
   "source": [
    "# 1316 그룹단어 체크"
   ]
  },
  {
   "cell_type": "code",
   "execution_count": 12,
   "metadata": {},
   "outputs": [
    {
     "name": "stdout",
     "output_type": "stream",
     "text": [
      "1\n"
     ]
    }
   ],
   "source": [
    "count=0\n",
    "for _ in range(int(input())):\n",
    "    word=input()\n",
    "    if list(word)==sorted(word,key=word.find):\n",
    "        count+=1\n",
    "\n",
    "print(count)\n",
    "    "
   ]
  },
  {
   "cell_type": "markdown",
   "metadata": {},
   "source": [
    "# 25206 너의 평점은"
   ]
  },
  {
   "cell_type": "code",
   "execution_count": 15,
   "metadata": {},
   "outputs": [
    {
     "name": "stdout",
     "output_type": "stream",
     "text": [
      "Heleo 3 B\n"
     ]
    }
   ],
   "source": [
    "grade={\"A+\":4.5,\"A0\":4.0,\"B+\":3.5,\"B0\":3.0,\"C+\":2.5,\"C0\":2.0,\"D+\":1.5,\"D0\":1.0,\"F\":0}\n",
    "rate=0\n",
    "scoreSum=0\n",
    "\n",
    "for _ in range(20):\n",
    "    subj,score,rating = input().split()\n",
    "    if rating == \"P\":\n",
    "        continue\n",
    "    rate+=float(score)*grade[rating]\n",
    "    scoreSum+=float(score)\n",
    "    \n",
    "print(rate/scoreSum)"
   ]
  },
  {
   "cell_type": "code",
   "execution_count": null,
   "metadata": {},
   "outputs": [],
   "source": []
  }
 ],
 "metadata": {
  "kernelspec": {
   "display_name": "MS",
   "language": "python",
   "name": "ms"
  },
  "language_info": {
   "codemirror_mode": {
    "name": "ipython",
    "version": 3
   },
   "file_extension": ".py",
   "mimetype": "text/x-python",
   "name": "python",
   "nbconvert_exporter": "python",
   "pygments_lexer": "ipython3",
   "version": "3.8.16"
  }
 },
 "nbformat": 4,
 "nbformat_minor": 2
}
