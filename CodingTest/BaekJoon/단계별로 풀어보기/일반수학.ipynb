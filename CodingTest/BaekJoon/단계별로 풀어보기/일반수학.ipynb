{
 "cells": [
  {
   "cell_type": "markdown",
   "metadata": {},
   "source": [
    "# 2745 진법 변환\n",
    "\n",
    "B진법인 수 N을 10진법으로 변환"
   ]
  },
  {
   "cell_type": "code",
   "execution_count": 21,
   "metadata": {},
   "outputs": [
    {
     "name": "stdout",
     "output_type": "stream",
     "text": [
      "60466175\n"
     ]
    }
   ],
   "source": [
    "n,b=input().split()\n",
    "b=int(b)\n",
    "result=0\n",
    "\n",
    "for i,char in enumerate(-(n)):\n",
    "    value = int(char) if char.isdigit() else ord(char) - 55\n",
    "    result += value * (b ** i )\n",
    "\n",
    "print(result)"
   ]
  },
  {
   "cell_type": "markdown",
   "metadata": {},
   "source": [
    "# 11005 진법변환2\n",
    "- 10진법 수 N을 B진법의 수로 변환\n",
    "\n",
    "\n",
    "--- \n",
    "\n",
    "- 나눈 몫이 B 보다 작으면 종료\n",
    "- 나머지를 list에 담고 출력시에 역으로 출력"
   ]
  },
  {
   "cell_type": "code",
   "execution_count": 30,
   "metadata": {},
   "outputs": [
    {
     "ename": "SyntaxError",
     "evalue": "invalid syntax (2191376477.py, line 7)",
     "output_type": "error",
     "traceback": [
      "\u001b[0;36m  Cell \u001b[0;32mIn[30], line 7\u001b[0;36m\u001b[0m\n\u001b[0;31m    for i in range()\u001b[0m\n\u001b[0m                    ^\u001b[0m\n\u001b[0;31mSyntaxError\u001b[0m\u001b[0;31m:\u001b[0m invalid syntax\n"
     ]
    }
   ],
   "source": [
    "n,b = map(int,input().split())\n",
    "\n",
    "\n",
    "\n",
    "while (b<rem) :\n",
    "    \n",
    "\n",
    "\n",
    "\n",
    "quo,rem = divmod(n,b)\n",
    "print(\"quotient = \",quo,\"remainder = \",rem)\n"
   ]
  },
  {
   "cell_type": "code",
   "execution_count": null,
   "metadata": {},
   "outputs": [],
   "source": []
  }
 ],
 "metadata": {
  "kernelspec": {
   "display_name": "MS",
   "language": "python",
   "name": "python3"
  },
  "language_info": {
   "codemirror_mode": {
    "name": "ipython",
    "version": 3
   },
   "file_extension": ".py",
   "mimetype": "text/x-python",
   "name": "python",
   "nbconvert_exporter": "python",
   "pygments_lexer": "ipython3",
   "version": "3.8.16"
  }
 },
 "nbformat": 4,
 "nbformat_minor": 2
}
