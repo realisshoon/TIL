{
 "cells": [
  {
   "cell_type": "markdown",
   "id": "f08393ec",
   "metadata": {},
   "source": [
    "# 5585 거스름돈"
   ]
  },
  {
   "cell_type": "code",
   "execution_count": 1,
   "id": "00cc9d1a",
   "metadata": {},
   "outputs": [
    {
     "name": "stdout",
     "output_type": "stream",
     "text": [
      "1\n",
      "15\n"
     ]
    }
   ],
   "source": [
    "taro=1000-int(input())\n",
    "\n",
    "coin_list=[500,100,50,10,5,1]\n",
    "cnt=0\n",
    "i=0\n",
    "\n",
    "while taro!=0:\n",
    "    cnt+=taro//coin_list[i]\n",
    "    taro%=coin_list[i]\n",
    "    i+=1\n",
    "\n",
    "print(cnt)\n",
    "    "
   ]
  },
  {
   "cell_type": "markdown",
   "id": "e5042d2f",
   "metadata": {},
   "source": [
    "# 10872 팩토리얼 "
   ]
  },
  {
   "cell_type": "code",
   "execution_count": null,
   "id": "aefe5edd",
   "metadata": {},
   "outputs": [],
   "source": [
    "def factorial(n):\n",
    "    result=1\n",
    "    if n>0:\n",
    "        result=n*factorial(n-1)\n",
    "    return result\n",
    "\n",
    "n=int(input())\n",
    "print(factorial(n))"
   ]
  },
  {
   "cell_type": "markdown",
   "id": "2824706d",
   "metadata": {},
   "source": [
    "# 1914 하노이탑"
   ]
  },
  {
   "cell_type": "code",
   "execution_count": 6,
   "id": "fffd3b59",
   "metadata": {},
   "outputs": [
    {
     "name": "stdout",
     "output_type": "stream",
     "text": [
      "120\n"
     ]
    }
   ],
   "source": []
  },
  {
   "cell_type": "markdown",
   "id": "35989e80",
   "metadata": {},
   "source": [
    "## 3062 수 뒤집기"
   ]
  },
  {
   "cell_type": "code",
   "execution_count": 8,
   "id": "3ff36cc6",
   "metadata": {},
   "outputs": [
    {
     "name": "stdout",
     "output_type": "stream",
     "text": [
      "YES\n",
      "YES\n",
      "NO\n"
     ]
    }
   ],
   "source": [
    "t= int(input())\n",
    "for _ in range(t):\n",
    "    a=input()\n",
    "    b=a[::-1]\n",
    "    sum_res=str(int(a)+int(b))\n",
    "    if sum_res==sum_res[::-1]:\n",
    "        print(\"YES\")\n",
    "    else:\n",
    "        print(\"NO\")"
   ]
  },
  {
   "cell_type": "markdown",
   "id": "7c7e50df",
   "metadata": {},
   "source": [
    "## 아스키 코드 "
   ]
  },
  {
   "cell_type": "code",
   "execution_count": 11,
   "id": "5e978793",
   "metadata": {},
   "outputs": [
    {
     "name": "stdout",
     "output_type": "stream",
     "text": [
      "97\n"
     ]
    }
   ],
   "source": [
    "a=input()\n",
    "print(ord(a))"
   ]
  },
  {
   "cell_type": "markdown",
   "id": "0ababced",
   "metadata": {},
   "source": [
    "- ord : 아스키 -> int\n",
    "- chr : int -> 아스키"
   ]
  },
  {
   "cell_type": "markdown",
   "id": "15e0fffa",
   "metadata": {},
   "source": [
    "## 11720 숫자의합"
   ]
  },
  {
   "cell_type": "code",
   "execution_count": 16,
   "id": "66e78679",
   "metadata": {},
   "outputs": [
    {
     "name": "stdout",
     "output_type": "stream",
     "text": [
      "6\n"
     ]
    }
   ],
   "source": [
    "n=int(input())\n",
    "a=list(map(int,input()))\n",
    "res=0\n",
    "\n",
    "for i in range(n):\n",
    "    res+=a[i]\n",
    "\n",
    "\n",
    "print(res)"
   ]
  },
  {
   "cell_type": "code",
   "execution_count": 17,
   "id": "47610c81",
   "metadata": {},
   "outputs": [
    {
     "name": "stdout",
     "output_type": "stream",
     "text": [
      "6\n"
     ]
    }
   ],
   "source": [
    "n=int(input())\n",
    "a=list(map(int,input()))\n",
    "\n",
    "print(sum(a))"
   ]
  },
  {
   "cell_type": "markdown",
   "id": "2ab7a880",
   "metadata": {},
   "source": [
    "## 10809 알파벳 찾기"
   ]
  },
  {
   "cell_type": "code",
   "execution_count": 19,
   "id": "82b6abac",
   "metadata": {},
   "outputs": [
    {
     "name": "stdout",
     "output_type": "stream",
     "text": [
      "2 0 -1 -1 1 -1 -1 -1 -1 4 3 -1 -1 7 5 -1 -1 -1 -1 -1 -1 -1 -1 -1 -1 -1 "
     ]
    }
   ],
   "source": [
    "a=input()\n",
    "alpha='abcdefghijklmnopqrstuvwxyz'\n",
    "\n",
    "for i in alpha:\n",
    "    print(a.find(i),end=' ')"
   ]
  },
  {
   "cell_type": "markdown",
   "id": "f717b182",
   "metadata": {},
   "source": [
    "## 2675 문자열 반복"
   ]
  },
  {
   "cell_type": "code",
   "execution_count": 24,
   "id": "fd2fe834",
   "metadata": {},
   "outputs": [
    {
     "name": "stdout",
     "output_type": "stream",
     "text": [
      "aaaaaabbbbbbccc\n",
      "bbbb////////////////\n"
     ]
    }
   ],
   "source": [
    "a=int(input())\n",
    "\n",
    "for _ in range(a):\n",
    "    cnt,word=input().split()\n",
    "    for i in word:\n",
    "        print(i*int(cnt),end='')\n",
    "    print()"
   ]
  },
  {
   "cell_type": "markdown",
   "id": "e32a268a",
   "metadata": {},
   "source": [
    "## 1152 단어의 갯수"
   ]
  },
  {
   "cell_type": "code",
   "execution_count": 2,
   "id": "fe038240",
   "metadata": {},
   "outputs": [
    {
     "name": "stdout",
     "output_type": "stream",
     "text": [
      "2\n"
     ]
    }
   ],
   "source": [
    "a=list(map(str,input().split()))\n",
    "print(len(a))"
   ]
  },
  {
   "cell_type": "markdown",
   "id": "8877359f",
   "metadata": {},
   "source": [
    "## 2908 "
   ]
  },
  {
   "cell_type": "code",
   "execution_count": 11,
   "id": "fc7b2f8b",
   "metadata": {},
   "outputs": [
    {
     "name": "stdout",
     "output_type": "stream",
     "text": [
      "823\n"
     ]
    }
   ],
   "source": [
    "a,b=input().split()\n",
    "\n",
    "rev_a=a[::-1]\n",
    "rev_b=b[::-1]\n",
    "\n",
    "print(max(rev_a,rev_b))"
   ]
  },
  {
   "cell_type": "markdown",
   "id": "634e5a23",
   "metadata": {},
   "source": [
    "## 5622"
   ]
  },
  {
   "cell_type": "code",
   "execution_count": 15,
   "id": "45fd78b2",
   "metadata": {},
   "outputs": [
    {
     "name": "stdout",
     "output_type": "stream",
     "text": [
      "7\n"
     ]
    }
   ],
   "source": [
    "al_list=['ABC','DEF','GHI','JKL','MNO','PQRS','TUV','WXYZ']\n",
    "S=input()\n",
    "time=0\n",
    "\n",
    "for s in S:\n",
    "    for idx,al in enumerate(al_list):\n",
    "        if s in al:\n",
    "            time+=idx+3\n",
    "\n",
    "print(time)"
   ]
  },
  {
   "cell_type": "code",
   "execution_count": 19,
   "id": "7dc44403",
   "metadata": {},
   "outputs": [
    {
     "name": "stdout",
     "output_type": "stream",
     "text": [
      "13\n"
     ]
    }
   ],
   "source": [
    "al_dict={\"ABC\":3,\"DEF\":4,'GHI':5,'JKL':6,'MNO':7,'PQRS':8,'TUV':9,'WXYZ':10}\n",
    "D=input()\n",
    "time=0\n",
    "\n",
    "for d in D:\n",
    "    for id,k in al_dict.items():\n",
    "        if d in id:\n",
    "            time+=k\n",
    "\n",
    "print(time)"
   ]
  },
  {
   "cell_type": "markdown",
   "id": "35899277",
   "metadata": {},
   "source": [
    "## 11718"
   ]
  },
  {
   "cell_type": "code",
   "execution_count": 21,
   "id": "1288c934",
   "metadata": {},
   "outputs": [
    {
     "ename": "KeyboardInterrupt",
     "evalue": "",
     "output_type": "error",
     "traceback": [
      "\u001b[0;31m---------------------------------------------------------------------------\u001b[0m",
      "\u001b[0;31mKeyboardInterrupt\u001b[0m                         Traceback (most recent call last)",
      "Cell \u001b[0;32mIn[21], line 1\u001b[0m\n\u001b[0;32m----> 1\u001b[0m \u001b[38;5;28;01mimport\u001b[39;00m \u001b[38;5;21;01msys\u001b[39;00m\n\u001b[1;32m      3\u001b[0m s\u001b[38;5;241m=\u001b[39m sys\u001b[38;5;241m.\u001b[39mstdin\u001b[38;5;241m.\u001b[39mreadlines()\n\u001b[1;32m      4\u001b[0m \u001b[38;5;28;01mfor\u001b[39;00m i \u001b[38;5;129;01min\u001b[39;00m s:\n",
      "Cell \u001b[0;32mIn[21], line 1\u001b[0m\n\u001b[0;32m----> 1\u001b[0m \u001b[38;5;28;01mimport\u001b[39;00m \u001b[38;5;21;01msys\u001b[39;00m\n\u001b[1;32m      3\u001b[0m s\u001b[38;5;241m=\u001b[39m sys\u001b[38;5;241m.\u001b[39mstdin\u001b[38;5;241m.\u001b[39mreadlines()\n\u001b[1;32m      4\u001b[0m \u001b[38;5;28;01mfor\u001b[39;00m i \u001b[38;5;129;01min\u001b[39;00m s:\n",
      "File \u001b[0;32m~/opt/anaconda3/envs/MS/lib/python3.8/site-packages/debugpy/_vendored/pydevd/_pydevd_bundle/pydevd_frame.py:988\u001b[0m, in \u001b[0;36mPyDBFrame.trace_dispatch\u001b[0;34m(self, frame, event, arg)\u001b[0m\n\u001b[1;32m    986\u001b[0m \u001b[38;5;66;03m# if thread has a suspend flag, we suspend with a busy wait\u001b[39;00m\n\u001b[1;32m    987\u001b[0m \u001b[38;5;28;01mif\u001b[39;00m info\u001b[38;5;241m.\u001b[39mpydev_state \u001b[38;5;241m==\u001b[39m STATE_SUSPEND:\n\u001b[0;32m--> 988\u001b[0m     \u001b[38;5;28;43mself\u001b[39;49m\u001b[38;5;241;43m.\u001b[39;49m\u001b[43mdo_wait_suspend\u001b[49m\u001b[43m(\u001b[49m\u001b[43mthread\u001b[49m\u001b[43m,\u001b[49m\u001b[43m \u001b[49m\u001b[43mframe\u001b[49m\u001b[43m,\u001b[49m\u001b[43m \u001b[49m\u001b[43mevent\u001b[49m\u001b[43m,\u001b[49m\u001b[43m \u001b[49m\u001b[43marg\u001b[49m\u001b[43m)\u001b[49m\n\u001b[1;32m    989\u001b[0m     \u001b[38;5;28;01mreturn\u001b[39;00m \u001b[38;5;28mself\u001b[39m\u001b[38;5;241m.\u001b[39mtrace_dispatch\n\u001b[1;32m    990\u001b[0m \u001b[38;5;28;01melse\u001b[39;00m:\n",
      "File \u001b[0;32m~/opt/anaconda3/envs/MS/lib/python3.8/site-packages/debugpy/_vendored/pydevd/_pydevd_bundle/pydevd_frame.py:165\u001b[0m, in \u001b[0;36mPyDBFrame.do_wait_suspend\u001b[0;34m(self, *args, **kwargs)\u001b[0m\n\u001b[1;32m    164\u001b[0m \u001b[38;5;28;01mdef\u001b[39;00m \u001b[38;5;21mdo_wait_suspend\u001b[39m(\u001b[38;5;28mself\u001b[39m, \u001b[38;5;241m*\u001b[39margs, \u001b[38;5;241m*\u001b[39m\u001b[38;5;241m*\u001b[39mkwargs):\n\u001b[0;32m--> 165\u001b[0m     \u001b[38;5;28;43mself\u001b[39;49m\u001b[38;5;241;43m.\u001b[39;49m\u001b[43m_args\u001b[49m\u001b[43m[\u001b[49m\u001b[38;5;241;43m0\u001b[39;49m\u001b[43m]\u001b[49m\u001b[38;5;241;43m.\u001b[39;49m\u001b[43mdo_wait_suspend\u001b[49m\u001b[43m(\u001b[49m\u001b[38;5;241;43m*\u001b[39;49m\u001b[43margs\u001b[49m\u001b[43m,\u001b[49m\u001b[43m \u001b[49m\u001b[38;5;241;43m*\u001b[39;49m\u001b[38;5;241;43m*\u001b[39;49m\u001b[43mkwargs\u001b[49m\u001b[43m)\u001b[49m\n",
      "File \u001b[0;32m~/opt/anaconda3/envs/MS/lib/python3.8/site-packages/debugpy/_vendored/pydevd/pydevd.py:2070\u001b[0m, in \u001b[0;36mPyDB.do_wait_suspend\u001b[0;34m(self, thread, frame, event, arg, exception_type)\u001b[0m\n\u001b[1;32m   2067\u001b[0m             from_this_thread\u001b[38;5;241m.\u001b[39mappend(frame_custom_thread_id)\n\u001b[1;32m   2069\u001b[0m     \u001b[38;5;28;01mwith\u001b[39;00m \u001b[38;5;28mself\u001b[39m\u001b[38;5;241m.\u001b[39m_threads_suspended_single_notification\u001b[38;5;241m.\u001b[39mnotify_thread_suspended(thread_id, thread, stop_reason):\n\u001b[0;32m-> 2070\u001b[0m         keep_suspended \u001b[38;5;241m=\u001b[39m \u001b[38;5;28;43mself\u001b[39;49m\u001b[38;5;241;43m.\u001b[39;49m\u001b[43m_do_wait_suspend\u001b[49m\u001b[43m(\u001b[49m\u001b[43mthread\u001b[49m\u001b[43m,\u001b[49m\u001b[43m \u001b[49m\u001b[43mframe\u001b[49m\u001b[43m,\u001b[49m\u001b[43m \u001b[49m\u001b[43mevent\u001b[49m\u001b[43m,\u001b[49m\u001b[43m \u001b[49m\u001b[43marg\u001b[49m\u001b[43m,\u001b[49m\u001b[43m \u001b[49m\u001b[43msuspend_type\u001b[49m\u001b[43m,\u001b[49m\u001b[43m \u001b[49m\u001b[43mfrom_this_thread\u001b[49m\u001b[43m,\u001b[49m\u001b[43m \u001b[49m\u001b[43mframes_tracker\u001b[49m\u001b[43m)\u001b[49m\n\u001b[1;32m   2072\u001b[0m frames_list \u001b[38;5;241m=\u001b[39m \u001b[38;5;28;01mNone\u001b[39;00m\n\u001b[1;32m   2074\u001b[0m \u001b[38;5;28;01mif\u001b[39;00m keep_suspended:\n\u001b[1;32m   2075\u001b[0m     \u001b[38;5;66;03m# This means that we should pause again after a set next statement.\u001b[39;00m\n",
      "File \u001b[0;32m~/opt/anaconda3/envs/MS/lib/python3.8/site-packages/debugpy/_vendored/pydevd/pydevd.py:2106\u001b[0m, in \u001b[0;36mPyDB._do_wait_suspend\u001b[0;34m(self, thread, frame, event, arg, suspend_type, from_this_thread, frames_tracker)\u001b[0m\n\u001b[1;32m   2103\u001b[0m         \u001b[38;5;28mself\u001b[39m\u001b[38;5;241m.\u001b[39m_call_input_hook()\n\u001b[1;32m   2105\u001b[0m     \u001b[38;5;28mself\u001b[39m\u001b[38;5;241m.\u001b[39mprocess_internal_commands()\n\u001b[0;32m-> 2106\u001b[0m     \u001b[43mtime\u001b[49m\u001b[38;5;241;43m.\u001b[39;49m\u001b[43msleep\u001b[49m\u001b[43m(\u001b[49m\u001b[38;5;241;43m0.01\u001b[39;49m\u001b[43m)\u001b[49m\n\u001b[1;32m   2108\u001b[0m \u001b[38;5;28mself\u001b[39m\u001b[38;5;241m.\u001b[39mcancel_async_evaluation(get_current_thread_id(thread), \u001b[38;5;28mstr\u001b[39m(\u001b[38;5;28mid\u001b[39m(frame)))\n\u001b[1;32m   2110\u001b[0m \u001b[38;5;66;03m# process any stepping instructions\u001b[39;00m\n",
      "\u001b[0;31mKeyboardInterrupt\u001b[0m: "
     ]
    }
   ],
   "source": [
    "import sys\n",
    "\n",
    "s= sys.stdin.readlines()\n",
    "for i in s:\n",
    "    print(i.rstrip())"
   ]
  },
  {
   "cell_type": "code",
   "execution_count": 22,
   "id": "1f1179d3",
   "metadata": {},
   "outputs": [
    {
     "name": "stdout",
     "output_type": "stream",
     "text": [
      "hello\n",
      "i am \n",
      "asldjasld\n",
      "\n",
      "\n",
      "\n",
      "\n",
      "\n",
      "\n",
      "\n"
     ]
    }
   ],
   "source": [
    "import sys\n",
    "\n",
    "while True:\n",
    "    try:\n",
    "        print(input())\n",
    "    except EOFError:\n",
    "        break"
   ]
  },
  {
   "cell_type": "markdown",
   "id": "9fd63823",
   "metadata": {},
   "source": []
  },
  {
   "cell_type": "code",
   "execution_count": null,
   "id": "0c015508",
   "metadata": {},
   "outputs": [],
   "source": []
  }
 ],
 "metadata": {
  "kernelspec": {
   "display_name": "MS",
   "language": "python",
   "name": "ms"
  },
  "language_info": {
   "codemirror_mode": {
    "name": "ipython",
    "version": 3
   },
   "file_extension": ".py",
   "mimetype": "text/x-python",
   "name": "python",
   "nbconvert_exporter": "python",
   "pygments_lexer": "ipython3",
   "version": "3.8.16"
  }
 },
 "nbformat": 4,
 "nbformat_minor": 5
}
