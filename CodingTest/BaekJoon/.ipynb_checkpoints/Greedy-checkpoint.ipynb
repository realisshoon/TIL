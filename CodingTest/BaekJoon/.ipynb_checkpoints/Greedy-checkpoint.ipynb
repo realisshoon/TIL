{
 "cells": [
  {
   "cell_type": "markdown",
   "id": "f08393ec",
   "metadata": {},
   "source": [
    "# 5585 거스름돈"
   ]
  },
  {
   "cell_type": "code",
   "execution_count": 1,
   "id": "00cc9d1a",
   "metadata": {},
   "outputs": [
    {
     "name": "stdout",
     "output_type": "stream",
     "text": [
      "1\n",
      "15\n"
     ]
    }
   ],
   "source": [
    "taro=1000-int(input())\n",
    "\n",
    "coin_list=[500,100,50,10,5,1]\n",
    "cnt=0\n",
    "i=0\n",
    "\n",
    "while taro!=0:\n",
    "    cnt+=taro//coin_list[i]\n",
    "    taro%=coin_list[i]\n",
    "    i+=1\n",
    "\n",
    "print(cnt)\n",
    "    "
   ]
  },
  {
   "cell_type": "code",
   "execution_count": null,
   "id": "2824706d",
   "metadata": {},
   "outputs": [],
   "source": []
  }
 ],
 "metadata": {
  "kernelspec": {
   "display_name": "Python 3 (ipykernel)",
   "language": "python",
   "name": "python3"
  },
  "language_info": {
   "codemirror_mode": {
    "name": "ipython",
    "version": 3
   },
   "file_extension": ".py",
   "mimetype": "text/x-python",
   "name": "python",
   "nbconvert_exporter": "python",
   "pygments_lexer": "ipython3",
   "version": "3.9.13"
  }
 },
 "nbformat": 4,
 "nbformat_minor": 5
}
