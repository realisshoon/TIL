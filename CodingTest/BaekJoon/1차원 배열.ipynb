{
 "cells": [
  {
   "cell_type": "markdown",
   "id": "a3d61c84",
   "metadata": {},
   "source": [
    "# 개수 세기"
   ]
  },
  {
   "cell_type": "code",
   "execution_count": 2,
   "id": "67a5ae44",
   "metadata": {},
   "outputs": [
    {
     "name": "stdout",
     "output_type": "stream",
     "text": [
      "5\n",
      "2 3 4 2 2 \n",
      "2\n",
      "3\n"
     ]
    }
   ],
   "source": [
    "n=int(input())\n",
    "n_list=list(map(int,input().split()))\n",
    "v=int(input())\n",
    "print(n_list.count(v))"
   ]
  },
  {
   "cell_type": "markdown",
   "id": "48c1f8f9",
   "metadata": {},
   "source": [
    "- input() 대신에 sys.stdin.realine()을 사용하면 처리속도가 빠르고 메모리도 적게 소모함\n",
    "- input()은 parameter로 prompt message를 받기 때문에 입력받기 전 이를 출력해야함\n",
    "- sys.stdin.readline()은 개행문자를 포함한 값을 리턴함"
   ]
  },
  {
   "cell_type": "markdown",
   "id": "0f65e585",
   "metadata": {},
   "source": [
    "# X보다 작은 수 | 10871번"
   ]
  },
  {
   "cell_type": "code",
   "execution_count": 10,
   "id": "9b649d58",
   "metadata": {},
   "outputs": [
    {
     "name": "stdout",
     "output_type": "stream",
     "text": [
      "10 5\n",
      "1 10 4 9 2 3 8 5 7 6\n",
      "1 4 2 3 "
     ]
    }
   ],
   "source": [
    "n,x=map(int,input().split())\n",
    "x_list=list(map(int,input().split()))\n",
    "for i in range(n):\n",
    "    if x_list[i]<x:\n",
    "        print(x_list[i],end=' ')"
   ]
  },
  {
   "cell_type": "code",
   "execution_count": 11,
   "id": "14c9b757",
   "metadata": {},
   "outputs": [
    {
     "name": "stdout",
     "output_type": "stream",
     "text": [
      "10 4\n",
      "1 2 3 4 5 6 7 7 9 10\n",
      "1 2 3"
     ]
    }
   ],
   "source": [
    "# 인상 깊은 code\n",
    "n, x = map(int, input().split())\n",
    "answer = ' '.join([i for i in input().split() if int(i) < x])\n",
    "print(answer, end='')"
   ]
  },
  {
   "cell_type": "markdown",
   "id": "6c8612b0",
   "metadata": {},
   "source": [
    "# 최소,최대 | 10818번"
   ]
  },
  {
   "cell_type": "code",
   "execution_count": 15,
   "id": "295e69d8",
   "metadata": {},
   "outputs": [
    {
     "name": "stdout",
     "output_type": "stream",
     "text": [
      "5\n",
      "20 10 35 30 7\n",
      "7 35\n"
     ]
    }
   ],
   "source": [
    "n=int(input())\n",
    "x_list=list(map(int,input().split()))\n",
    "min=x_list[0]\n",
    "max=x_list[0]\n",
    "for i in range(n):\n",
    "    if x_list[i]<min:\n",
    "        min=x_list[i]\n",
    "    if x_list[i]>max:\n",
    "        max=x_list[i]\n",
    "print(min,max)"
   ]
  },
  {
   "cell_type": "code",
   "execution_count": null,
   "id": "9b79d2ed",
   "metadata": {},
   "outputs": [],
   "source": [
    "# 2"
   ]
  }
 ],
 "metadata": {
  "kernelspec": {
   "display_name": "Python 3 (ipykernel)",
   "language": "python",
   "name": "python3"
  },
  "language_info": {
   "codemirror_mode": {
    "name": "ipython",
    "version": 3
   },
   "file_extension": ".py",
   "mimetype": "text/x-python",
   "name": "python",
   "nbconvert_exporter": "python",
   "pygments_lexer": "ipython3",
   "version": "3.9.13"
  }
 },
 "nbformat": 4,
 "nbformat_minor": 5
}
