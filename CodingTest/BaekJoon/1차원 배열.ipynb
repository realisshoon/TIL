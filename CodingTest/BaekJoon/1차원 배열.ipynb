{
 "cells": [
  {
   "cell_type": "markdown",
   "id": "a3d61c84",
   "metadata": {},
   "source": [
    "# 개수 세기"
   ]
  },
  {
   "cell_type": "code",
   "execution_count": 2,
   "id": "67a5ae44",
   "metadata": {},
   "outputs": [
    {
     "name": "stdout",
     "output_type": "stream",
     "text": [
      "5\n",
      "2 3 4 2 2 \n",
      "2\n",
      "3\n"
     ]
    }
   ],
   "source": [
    "n=int(input())\n",
    "n_list=list(map(int,input().split()))\n",
    "v=int(input())\n",
    "print(n_list.count(v))"
   ]
  },
  {
   "cell_type": "markdown",
   "id": "48c1f8f9",
   "metadata": {},
   "source": [
    "- input() 대신에 sys.stdin.realine()을 사용하면 처리속도가 빠르고 메모리도 적게 소모함\n",
    "- input()은 parameter로 prompt message를 받기 때문에 입력받기 전 이를 출력해야함\n",
    "- sys.stdin.readline()은 개행문자를 포함한 값을 리턴함"
   ]
  },
  {
   "cell_type": "markdown",
   "id": "0f65e585",
   "metadata": {},
   "source": [
    "# X보다 작은 수 | 10871번"
   ]
  },
  {
   "cell_type": "code",
   "execution_count": 10,
   "id": "9b649d58",
   "metadata": {},
   "outputs": [
    {
     "name": "stdout",
     "output_type": "stream",
     "text": [
      "10 5\n",
      "1 10 4 9 2 3 8 5 7 6\n",
      "1 4 2 3 "
     ]
    }
   ],
   "source": [
    "n,x=map(int,input().split())\n",
    "x_list=list(map(int,input().split()))\n",
    "for i in range(n):\n",
    "    if x_list[i]<x:\n",
    "        print(x_list[i],end=' ')"
   ]
  },
  {
   "cell_type": "code",
   "execution_count": 11,
   "id": "14c9b757",
   "metadata": {},
   "outputs": [
    {
     "name": "stdout",
     "output_type": "stream",
     "text": [
      "10 4\n",
      "1 2 3 4 5 6 7 7 9 10\n",
      "1 2 3"
     ]
    }
   ],
   "source": [
    "# 인상 깊은 code\n",
    "n, x = map(int, input().split())\n",
    "answer = ' '.join([i for i in input().split() if int(i) < x])\n",
    "print(answer, end='')"
   ]
  },
  {
   "cell_type": "markdown",
   "id": "6c8612b0",
   "metadata": {},
   "source": [
    "# 최소,최대 | 10818번"
   ]
  },
  {
   "cell_type": "code",
   "execution_count": 15,
   "id": "295e69d8",
   "metadata": {},
   "outputs": [
    {
     "name": "stdout",
     "output_type": "stream",
     "text": [
      "5\n",
      "20 10 35 30 7\n",
      "7 35\n"
     ]
    }
   ],
   "source": [
    "n=int(input())\n",
    "x_list=list(map(int,input().split()))\n",
    "min=x_list[0]\n",
    "max=x_list[0]\n",
    "for i in range(n):\n",
    "    if x_list[i]<min:\n",
    "        min=x_list[i]\n",
    "    if x_list[i]>max:\n",
    "        max=x_list[i]\n",
    "print(min,max)"
   ]
  },
  {
   "cell_type": "markdown",
   "id": "5b719e9b",
   "metadata": {},
   "source": [
    "# 최댓값 | 2562번"
   ]
  },
  {
   "cell_type": "code",
   "execution_count": 3,
   "id": "ec489d8b",
   "metadata": {},
   "outputs": [
    {
     "name": "stdout",
     "output_type": "stream",
     "text": [
      "2\n",
      "1\n",
      "2\n",
      "3\n",
      "4\n",
      "5\n",
      "6\n",
      "7\n",
      "8\n",
      "8\n",
      "9\n"
     ]
    }
   ],
   "source": [
    "num_list=[]\n",
    "for i in range(9):\n",
    "    num_list.append(int(input()))\n",
    "    \n",
    "print(max(num_list))\n",
    "print(num_list.index(max(num_list))+1)"
   ]
  },
  {
   "cell_type": "markdown",
   "id": "ea163ad4",
   "metadata": {},
   "source": [
    "# 공 넣기 | 10810번\n",
    "- M : 공을 넣는 횟수\n",
    "- N : 바구니 갯수\n",
    "- i~j : 바구니에 공을 넣는 범위\n",
    "- k : 공의 번호\n",
    "\n",
    "ex) 2 5 6 : 2~5번 바구니까지 6번 공을 넣음"
   ]
  },
  {
   "cell_type": "code",
   "execution_count": 10,
   "id": "fad7eebb",
   "metadata": {},
   "outputs": [
    {
     "name": "stdout",
     "output_type": "stream",
     "text": [
      "5 4\n",
      "1 2 3\n",
      "3 4 4\n",
      "1 4 1\n",
      "2 2 2\n",
      "1 2 1 1 0 "
     ]
    }
   ],
   "source": [
    "N,M=map(int,input().split())\n",
    "box=[0]*N\n",
    "for _ in range(M):\n",
    "    i,j,k=map(int,input().split())\n",
    "    for idx in range(i,j+1):\n",
    "        box[idx-1]=k\n",
    "for i in range(N):\n",
    "    print(box[i],end=' ')"
   ]
  },
  {
   "cell_type": "markdown",
   "id": "3ac1daf2",
   "metadata": {},
   "source": [
    "# 공 바꾸기 | 10813번\n",
    "- N : 바구니 갯수\n",
    "- M : 공을 바꾸는 횟수\n",
    "\n",
    "#### 참고할만한 코드\n",
    "`basket = [i for i in range(1,N+1)]`\n"
   ]
  },
  {
   "cell_type": "code",
   "execution_count": 18,
   "id": "f9190373",
   "metadata": {},
   "outputs": [
    {
     "name": "stdout",
     "output_type": "stream",
     "text": [
      "5 4\n",
      "1 2\n",
      "3 4\n",
      "1 4\n",
      "2 2\n",
      "3 1 4 2 5 "
     ]
    }
   ],
   "source": [
    "N,M=map(int,input().split())\n",
    "box=[]\n",
    "box_tmp=0\n",
    "for idx in range(N):\n",
    "    box.append(idx+1)\n",
    "for _ in range(M):\n",
    "    i,j=map(int,input().split())\n",
    "    box_tmp=box[i-1]\n",
    "    box[i-1]=box[j-1]\n",
    "    box[j-1]=box_tmp\n",
    "for i in range(N):\n",
    "    print(box[i],end=' ')"
   ]
  },
  {
   "cell_type": "code",
   "execution_count": null,
   "id": "b0cf6b87",
   "metadata": {},
   "outputs": [],
   "source": []
  }
 ],
 "metadata": {
  "kernelspec": {
   "display_name": "Python 3 (ipykernel)",
   "language": "python",
   "name": "python3"
  },
  "language_info": {
   "codemirror_mode": {
    "name": "ipython",
    "version": 3
   },
   "file_extension": ".py",
   "mimetype": "text/x-python",
   "name": "python",
   "nbconvert_exporter": "python",
   "pygments_lexer": "ipython3",
   "version": "3.9.13"
  }
 },
 "nbformat": 4,
 "nbformat_minor": 5
}
