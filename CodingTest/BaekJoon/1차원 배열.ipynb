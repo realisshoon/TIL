{
 "cells": [
  {
   "cell_type": "markdown",
   "id": "a3d61c84",
   "metadata": {},
   "source": [
    "# 개수 세기"
   ]
  },
  {
   "cell_type": "code",
   "execution_count": 2,
   "id": "67a5ae44",
   "metadata": {},
   "outputs": [
    {
     "name": "stdout",
     "output_type": "stream",
     "text": [
      "5\n",
      "2 3 4 2 2 \n",
      "2\n",
      "3\n"
     ]
    }
   ],
   "source": [
    "n=int(input())\n",
    "n_list=list(map(int,input().split()))\n",
    "v=int(input())\n",
    "print(n_list.count(v))"
   ]
  },
  {
   "cell_type": "markdown",
   "id": "48c1f8f9",
   "metadata": {},
   "source": [
    "input() 대신에 sys.stdin.realine()을 사요와면 처리속도가 빠르고 메모리도 적게 소모함\n",
    "input()은 parameter로 prompt message를 받기 때문에 입력받기 전 이를 출력해야함\n",
    "sys.stdin.readline()은 개행문자를 포함한 값을 리턴함"
   ]
  },
  {
   "cell_type": "code",
   "execution_count": null,
   "id": "29d79b63",
   "metadata": {},
   "outputs": [],
   "source": []
  }
 ],
 "metadata": {
  "kernelspec": {
   "display_name": "Python 3 (ipykernel)",
   "language": "python",
   "name": "python3"
  },
  "language_info": {
   "codemirror_mode": {
    "name": "ipython",
    "version": 3
   },
   "file_extension": ".py",
   "mimetype": "text/x-python",
   "name": "python",
   "nbconvert_exporter": "python",
   "pygments_lexer": "ipython3",
   "version": "3.9.13"
  }
 },
 "nbformat": 4,
 "nbformat_minor": 5
}
