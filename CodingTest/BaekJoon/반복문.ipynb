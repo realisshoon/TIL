{
 "cells": [
  {
   "cell_type": "markdown",
   "id": "619bb3e0",
   "metadata": {},
   "source": [
    "# 코딩은 체육과목입니다"
   ]
  },
  {
   "cell_type": "code",
   "execution_count": 3,
   "id": "d7e07337",
   "metadata": {},
   "outputs": [
    {
     "name": "stdout",
     "output_type": "stream",
     "text": [
      "8\n",
      "long long int\n"
     ]
    }
   ],
   "source": [
    "n=int(input())\n",
    "total=n//4\n",
    "for i in range(total):\n",
    "    print('long',end=' ')\n",
    "print('int')"
   ]
  },
  {
   "cell_type": "code",
   "execution_count": 5,
   "id": "9e6ce338",
   "metadata": {},
   "outputs": [
    {
     "name": "stdout",
     "output_type": "stream",
     "text": [
      "8\n",
      "longlongint\n"
     ]
    }
   ],
   "source": [
    "# 인상 깊은 code\n",
    "print(int(input())//4*'long '+'int')"
   ]
  }
 ],
 "metadata": {
  "kernelspec": {
   "display_name": "Python 3 (ipykernel)",
   "language": "python",
   "name": "python3"
  },
  "language_info": {
   "codemirror_mode": {
    "name": "ipython",
    "version": 3
   },
   "file_extension": ".py",
   "mimetype": "text/x-python",
   "name": "python",
   "nbconvert_exporter": "python",
   "pygments_lexer": "ipython3",
   "version": "3.9.13"
  }
 },
 "nbformat": 4,
 "nbformat_minor": 5
}
