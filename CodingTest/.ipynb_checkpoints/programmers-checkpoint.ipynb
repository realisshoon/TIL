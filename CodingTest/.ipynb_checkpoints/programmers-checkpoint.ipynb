{
 "cells": [
  {
   "cell_type": "markdown",
   "id": "8458b42d",
   "metadata": {},
   "source": [
    "## 부족한 금액계산하기"
   ]
  },
  {
   "cell_type": "code",
   "execution_count": 1,
   "id": "588d0907",
   "metadata": {},
   "outputs": [],
   "source": [
    "price=3\n",
    "money=20\n",
    "count=4"
   ]
  },
  {
   "cell_type": "code",
   "execution_count": 12,
   "id": "bef9d862",
   "metadata": {},
   "outputs": [],
   "source": [
    "def solution(price,money,count):\n",
    "    answer=0\n",
    "    need=0\n",
    "    for i in range(1,count+1):\n",
    "        need+=(i)*price\n",
    "    if money>=need:\n",
    "        answer=0\n",
    "    else:\n",
    "        answer=need-money\n",
    "    return answer"
   ]
  },
  {
   "cell_type": "markdown",
   "id": "5354293a",
   "metadata": {},
   "source": [
    "내가 제출한 코드이다."
   ]
  },
  {
   "cell_type": "code",
   "execution_count": 17,
   "id": "d9a30c95",
   "metadata": {},
   "outputs": [
    {
     "data": {
      "text/plain": [
       "10"
      ]
     },
     "execution_count": 17,
     "metadata": {},
     "output_type": "execute_result"
    }
   ],
   "source": [
    "def solution(price,money,count):\n",
    "    total=sum(range(count+1))*price\n",
    "    return total-money if money<total else 0\n",
    "solution(3,20,4)"
   ]
  },
  {
   "cell_type": "markdown",
   "id": "f9b70c2c",
   "metadata": {},
   "source": []
  }
 ],
 "metadata": {
  "kernelspec": {
   "display_name": "Python 3.9.6 64-bit",
   "language": "python",
   "name": "python3"
  },
  "language_info": {
   "codemirror_mode": {
    "name": "ipython",
    "version": 3
   },
   "file_extension": ".py",
   "mimetype": "text/x-python",
   "name": "python",
   "nbconvert_exporter": "python",
   "pygments_lexer": "ipython3",
   "version": "3.9.6"
  },
  "vscode": {
   "interpreter": {
    "hash": "31f2aee4e71d21fbe5cf8b01ff0e069b9275f58929596ceb00d14d90e3e16cd6"
   }
  }
 },
 "nbformat": 4,
 "nbformat_minor": 5
}
