{
 "cells": [
  {
   "cell_type": "markdown",
   "id": "8edcc155",
   "metadata": {},
   "source": [
    "# CodeUp 기초 100제\n",
    "\n",
    "### 번호가 붙어있는 문제\n",
    "- 못 풀었던 문제\n",
    "- 풀었지만 참고할 만한 다른 사람 풀이 \n",
    "- 필요한 문법"
   ]
  },
  {
   "cell_type": "code",
   "execution_count": 1,
   "id": "bc6ae7db",
   "metadata": {},
   "outputs": [
    {
     "name": "stdout",
     "output_type": "stream",
     "text": [
      "1 3\n",
      "8\n"
     ]
    }
   ],
   "source": [
    "# 6047\n",
    "#1번 풀이\n",
    "a,b=map(int,input().split())\n",
    "print(a*(2**b))\n",
    "#제곱 연산 표현 : **"
   ]
  },
  {
   "cell_type": "code",
   "execution_count": 2,
   "id": "198b609e",
   "metadata": {},
   "outputs": [
    {
     "name": "stdout",
     "output_type": "stream",
     "text": [
      "1 1\n",
      "True\n"
     ]
    }
   ],
   "source": [
    "a,b=map(int,input().split())\n",
    "if a==b:\n",
    "    print(True)\n",
    "else:\n",
    "    print(False)"
   ]
  },
  {
   "cell_type": "code",
   "execution_count": 3,
   "id": "ee3e6d84",
   "metadata": {},
   "outputs": [
    {
     "name": "stdout",
     "output_type": "stream",
     "text": [
      "0 -1\n",
      "False\n"
     ]
    }
   ],
   "source": [
    "a,b=map(int,input().split())\n",
    "if b>=a:\n",
    "    print(True)\n",
    "else:\n",
    "    print(False)"
   ]
  },
  {
   "cell_type": "code",
   "execution_count": 4,
   "id": "907dcf0c",
   "metadata": {},
   "outputs": [
    {
     "name": "stdout",
     "output_type": "stream",
     "text": [
      "1 1\n",
      "False\n"
     ]
    }
   ],
   "source": [
    "a,b=map(int,input().split())\n",
    "if b!=a:\n",
    "    print(True)\n",
    "else:\n",
    "    print(False)"
   ]
  },
  {
   "cell_type": "code",
   "execution_count": 5,
   "id": "58613328",
   "metadata": {},
   "outputs": [
    {
     "name": "stdout",
     "output_type": "stream",
     "text": [
      "0\n",
      "False\n"
     ]
    }
   ],
   "source": [
    "#6052\n",
    "n=int(input())\n",
    "print(bool(n))\n",
    "\n",
    "#python에서 정수값 0은 False 외의 값들은 True"
   ]
  },
  {
   "cell_type": "code",
   "execution_count": 6,
   "id": "ecd56923",
   "metadata": {},
   "outputs": [
    {
     "name": "stdout",
     "output_type": "stream",
     "text": [
      "1\n",
      "False\n"
     ]
    }
   ],
   "source": [
    "#6053\n",
    "n=bool(int(input()))\n",
    "print(not n)\n",
    "\n",
    "#bool값은 not,and,or 같은 연산이 가능하다."
   ]
  },
  {
   "cell_type": "code",
   "execution_count": 14,
   "id": "21b6a5e0",
   "metadata": {},
   "outputs": [
    {
     "name": "stdout",
     "output_type": "stream",
     "text": [
      "1 1\n",
      "True\n"
     ]
    }
   ],
   "source": [
    "a,b=map(int,input().split())\n",
    "print(bool(a) and bool(b))"
   ]
  },
  {
   "cell_type": "code",
   "execution_count": null,
   "id": "cc3614b0",
   "metadata": {},
   "outputs": [],
   "source": [
    "a,b=map(int,input().split())\n",
    "print(bool(a) or bool(b))"
   ]
  },
  {
   "cell_type": "code",
   "execution_count": 15,
   "id": "bf828cb0",
   "metadata": {},
   "outputs": [
    {
     "name": "stdout",
     "output_type": "stream",
     "text": [
      "1 1\n",
      "False\n"
     ]
    }
   ],
   "source": [
    "#xor\n",
    "a,b=map(int,input().split())\n",
    "print(bool(a)!=bool(b))"
   ]
  },
  {
   "cell_type": "code",
   "execution_count": 18,
   "id": "65a945e9",
   "metadata": {},
   "outputs": [
    {
     "name": "stdout",
     "output_type": "stream",
     "text": [
      "1 1\n",
      "True\n"
     ]
    }
   ],
   "source": [
    "#and\n",
    "a,b=map(int,input().split())\n",
    "print(bool(a)==bool(b))"
   ]
  },
  {
   "cell_type": "code",
   "execution_count": 22,
   "id": "95f9ff46",
   "metadata": {},
   "outputs": [
    {
     "name": "stdout",
     "output_type": "stream",
     "text": [
      "1 1\n",
      "False\n"
     ]
    }
   ],
   "source": [
    "a,b=map(int,input().split())\n",
    "a=bool(a)\n",
    "b=bool(b)\n",
    "print(not(a or b))"
   ]
  },
  {
   "cell_type": "markdown",
   "id": "a62e27b3",
   "metadata": {},
   "source": [
    "--- \n",
    "2023.01.20"
   ]
  },
  {
   "cell_type": "code",
   "execution_count": 5,
   "id": "1fe3e34f",
   "metadata": {},
   "outputs": [
    {
     "name": "stdout",
     "output_type": "stream",
     "text": [
      "3\n",
      "-4\n"
     ]
    }
   ],
   "source": [
    "#6059\n",
    "#not\n",
    "a=int(input())\n",
    "print(~ a)\n",
    "\n",
    "#비트연산자\n",
    "#~n=-n-1\n",
    "#-n=~n+1"
   ]
  },
  {
   "cell_type": "code",
   "execution_count": 8,
   "id": "01811757",
   "metadata": {},
   "outputs": [
    {
     "name": "stdout",
     "output_type": "stream",
     "text": [
      "3 5\n",
      "1\n"
     ]
    }
   ],
   "source": [
    "#and\n",
    "a,b=map(int,input().split())\n",
    "print(a&b)"
   ]
  },
  {
   "cell_type": "code",
   "execution_count": 9,
   "id": "ea7d6bef",
   "metadata": {},
   "outputs": [
    {
     "name": "stdout",
     "output_type": "stream",
     "text": [
      "3 5\n",
      "7\n"
     ]
    }
   ],
   "source": [
    "#or\n",
    "a,b=map(int,input().split())\n",
    "print(a|b)"
   ]
  },
  {
   "cell_type": "code",
   "execution_count": 10,
   "id": "b0bb6a62",
   "metadata": {},
   "outputs": [
    {
     "name": "stdout",
     "output_type": "stream",
     "text": [
      "3 5\n",
      "6\n"
     ]
    }
   ],
   "source": [
    "#xor\n",
    "a,b=map(int,input().split())\n",
    "print(a^b)"
   ]
  },
  {
   "cell_type": "code",
   "execution_count": 16,
   "id": "5a25d99f",
   "metadata": {},
   "outputs": [
    {
     "name": "stdout",
     "output_type": "stream",
     "text": [
      "123 456\n",
      "456\n"
     ]
    }
   ],
   "source": [
    "a,b=map(int,input().split())\n",
    "c=a if (a>=b) else b\n",
    "print(c)"
   ]
  },
  {
   "cell_type": "code",
   "execution_count": 18,
   "id": "46bd1731",
   "metadata": {},
   "outputs": [
    {
     "name": "stdout",
     "output_type": "stream",
     "text": [
      "1 2 -1\n"
     ]
    },
    {
     "data": {
      "text/plain": [
       "-1"
      ]
     },
     "execution_count": 18,
     "metadata": {},
     "output_type": "execute_result"
    }
   ],
   "source": [
    "a,b,c=map(int,input().split())\n",
    "(a if a<b else b) if ((a if a<b else b)<c) else c"
   ]
  },
  {
   "cell_type": "code",
   "execution_count": 20,
   "id": "917fba90",
   "metadata": {},
   "outputs": [
    {
     "name": "stdout",
     "output_type": "stream",
     "text": [
      "1 2 4\n",
      "2\n",
      "4\n"
     ]
    }
   ],
   "source": [
    "a,b,c=map(int,input().split())\n",
    "if a%2==0:\n",
    "    print(a)\n",
    "if b%2==0:\n",
    "    print(b)\n",
    "if c%2==0:\n",
    "    print(c)"
   ]
  },
  {
   "cell_type": "code",
   "execution_count": 22,
   "id": "14ade0ad",
   "metadata": {},
   "outputs": [
    {
     "name": "stdout",
     "output_type": "stream",
     "text": [
      "1 2 4\n",
      "odd\n",
      "even\n",
      "even\n"
     ]
    }
   ],
   "source": [
    "a,b,c=map(int,input().split())\n",
    "if a%2==0:\n",
    "    print(\"even\")\n",
    "else:\n",
    "    print(\"odd\")\n",
    "if b%2==0:\n",
    "    print(\"even\")\n",
    "else:\n",
    "    print(\"odd\")\n",
    "if c%2==0:\n",
    "    print(\"even\")\n",
    "else:\n",
    "    print(\"odd\")\n"
   ]
  },
  {
   "cell_type": "code",
   "execution_count": 5,
   "id": "822ffb88",
   "metadata": {},
   "outputs": [
    {
     "name": "stdout",
     "output_type": "stream",
     "text": [
      "70\n",
      "B\n"
     ]
    }
   ],
   "source": [
    "n=int(input())\n",
    "if n>=90:\n",
    "    print(\"A\")\n",
    "elif n>=70:\n",
    "    print(\"B\")\n",
    "elif n>=40:\n",
    "    print(\"C\")\n",
    "else:\n",
    "    print(\"D\")"
   ]
  },
  {
   "cell_type": "code",
   "execution_count": 7,
   "id": "f8978630",
   "metadata": {},
   "outputs": [
    {
     "name": "stdout",
     "output_type": "stream",
     "text": [
      "dsf\n",
      "What?\n"
     ]
    }
   ],
   "source": [
    "n=input()\n",
    "if n==\"A\":\n",
    "    print(\"best!!!\")\n",
    "elif n==\"B\":\n",
    "    print(\"good!!\")\n",
    "elif n==\"C\":\n",
    "    print(\"run!\")\n",
    "elif n==\"D\":\n",
    "    print(\"slowly~\")\n",
    "else:\n",
    "    print(\"what?\")\n",
    "    "
   ]
  },
  {
   "cell_type": "code",
   "execution_count": 14,
   "id": "f7088653",
   "metadata": {},
   "outputs": [
    {
     "name": "stdout",
     "output_type": "stream",
     "text": [
      "11\n",
      "fall\n"
     ]
    }
   ],
   "source": [
    "#6040\n",
    "n=int(input())\n",
    "if n==12 or n==1 or n==2:\n",
    "    print(\"winter\")\n",
    "elif n==3 or n==4 or n==5:\n",
    "    print(\"spring\")\n",
    "elif n==6 or n==7 or n==8:\n",
    "    print(\"summer\")\n",
    "else:\n",
    "    print(\"fall\")"
   ]
  },
  {
   "cell_type": "code",
   "execution_count": 16,
   "id": "57713385",
   "metadata": {},
   "outputs": [
    {
     "name": "stdout",
     "output_type": "stream",
     "text": [
      "22\n",
      "witer\n"
     ]
    }
   ],
   "source": [
    "#다른 사람 풀이\n",
    "n=int(input())\n",
    "if n//3==1:\n",
    "    print(\"spring\")\n",
    "elif n//3==2:\n",
    "    print(\"summer\")\n",
    "elif n//3==3:\n",
    "    print(\"fall\")\n",
    "else:\n",
    "    print(\"witer\")"
   ]
  },
  {
   "cell_type": "markdown",
   "id": "4b0ba7e2",
   "metadata": {},
   "source": [
    "수들의 특징을 이용하니 간단한 식이 나왔다."
   ]
  },
  {
   "cell_type": "code",
   "execution_count": 17,
   "id": "4ae60c38",
   "metadata": {},
   "outputs": [
    {
     "name": "stdout",
     "output_type": "stream",
     "text": [
      "2\n",
      "2\n",
      "3\n",
      "3\n",
      "4\n",
      "4\n",
      "5\n",
      "5\n",
      "6\n",
      "6\n",
      "0\n"
     ]
    }
   ],
   "source": [
    "n=1\n",
    "while n!=0:\n",
    "    n=int(input())\n",
    "    if n!=0:\n",
    "        print(n)"
   ]
  },
  {
   "cell_type": "code",
   "execution_count": 23,
   "id": "de037bc5",
   "metadata": {},
   "outputs": [
    {
     "name": "stdout",
     "output_type": "stream",
     "text": [
      "4\n",
      "4\n",
      "3\n",
      "2\n",
      "1\n"
     ]
    }
   ],
   "source": [
    "#6072\n",
    "n=int(input())\n",
    "for i in range(n,0,-1):\n",
    "    print(i)"
   ]
  },
  {
   "cell_type": "code",
   "execution_count": 25,
   "id": "3bd346d0",
   "metadata": {},
   "outputs": [
    {
     "name": "stdout",
     "output_type": "stream",
     "text": [
      "4\n",
      "4\n",
      "3\n",
      "2\n",
      "1\n"
     ]
    }
   ],
   "source": [
    "#while문\n",
    "n=int(input())\n",
    "while(n!=0):\n",
    "    print(n)\n",
    "    n=n-1"
   ]
  },
  {
   "cell_type": "code",
   "execution_count": 26,
   "id": "e800073e",
   "metadata": {},
   "outputs": [
    {
     "name": "stdout",
     "output_type": "stream",
     "text": [
      "5\n",
      "4\n",
      "3\n",
      "2\n",
      "1\n",
      "0\n"
     ]
    }
   ],
   "source": [
    "n=int(input())\n",
    "for i in range(n-1,-1,-1):\n",
    "    print(i)"
   ]
  },
  {
   "cell_type": "code",
   "execution_count": 28,
   "id": "ce85aa94",
   "metadata": {},
   "outputs": [
    {
     "name": "stdout",
     "output_type": "stream",
     "text": [
      "5\n",
      "4\n",
      "3\n",
      "2\n",
      "1\n",
      "0\n"
     ]
    }
   ],
   "source": [
    "#while문\n",
    "n=int(input())\n",
    "while(n!=0):\n",
    "    n=n-1\n",
    "    print(n)"
   ]
  },
  {
   "cell_type": "code",
   "execution_count": 1,
   "id": "8abf0c93",
   "metadata": {},
   "outputs": [
    {
     "name": "stdout",
     "output_type": "stream",
     "text": [
      "c\n",
      "a b c "
     ]
    }
   ],
   "source": [
    "#6047\n",
    "c=ord(input())\n",
    "t=ord('a')\n",
    "while t<=c:\n",
    "    print(chr(t),end=' ')# 값 출력후 공백문자를 출력\n",
    "    t+=1"
   ]
  },
  {
   "cell_type": "code",
   "execution_count": 8,
   "id": "0bd71654",
   "metadata": {},
   "outputs": [
    {
     "name": "stdout",
     "output_type": "stream",
     "text": [
      "2\n",
      "0\n",
      "1\n",
      "2\n"
     ]
    }
   ],
   "source": [
    "n=int(input())\n",
    "t=int(0)\n",
    "while t<=n:\n",
    "    print(t,end='\\n')\n",
    "    t+=1"
   ]
  },
  {
   "cell_type": "code",
   "execution_count": 2,
   "id": "6d50e7e9",
   "metadata": {},
   "outputs": [
    {
     "name": "stdout",
     "output_type": "stream",
     "text": [
      "4\n",
      "0\n",
      "1\n",
      "2\n",
      "3\n",
      "4\n"
     ]
    }
   ],
   "source": [
    "n=int(input())\n",
    "for i in range(n+1):\n",
    "    print(i)"
   ]
  },
  {
   "cell_type": "code",
   "execution_count": 9,
   "id": "ba79e18c",
   "metadata": {},
   "outputs": [
    {
     "name": "stdout",
     "output_type": "stream",
     "text": [
      "5\n",
      "6\n"
     ]
    }
   ],
   "source": [
    "n=int(input())\n",
    "sum=0\n",
    "for i in range(1,n+1):\n",
    "    if i%2==0:\n",
    "        sum+=i\n",
    "    \n",
    "print(sum)"
   ]
  },
  {
   "cell_type": "code",
   "execution_count": 10,
   "id": "2110b403",
   "metadata": {},
   "outputs": [
    {
     "name": "stdout",
     "output_type": "stream",
     "text": [
      "a\n",
      "b\n",
      "b\n",
      "q\n",
      "q\n"
     ]
    }
   ],
   "source": [
    "#6078\n",
    "#오답풀이\n",
    "c=ord(input())\n",
    "t=ord('q')\n",
    "while(c!=t):\n",
    "    c=ord(input())\n",
    "    print(chr(c))\n",
    "#첫번째 답이 입력이 안됨"
   ]
  },
  {
   "cell_type": "code",
   "execution_count": 12,
   "id": "8861c248",
   "metadata": {},
   "outputs": [
    {
     "name": "stdout",
     "output_type": "stream",
     "text": [
      "a\n",
      "a\n",
      "v\n",
      "v\n",
      "b\n",
      "b\n",
      "c\n",
      "c\n",
      "v\n",
      "v\n",
      "d\n",
      "d\n",
      "q\n",
      "q\n"
     ]
    }
   ],
   "source": [
    "#다른 사람 풀이\n",
    "while True:\n",
    "    c=input()\n",
    "    print(c)\n",
    "    if c=='q':\n",
    "        break"
   ]
  },
  {
   "cell_type": "code",
   "execution_count": 15,
   "id": "2dfade10",
   "metadata": {},
   "outputs": [
    {
     "name": "stdout",
     "output_type": "stream",
     "text": [
      "55\n",
      "10\n"
     ]
    }
   ],
   "source": [
    "#6079\n",
    "n=int(input())\n",
    "sum=0\n",
    "i=0\n",
    "while True:\n",
    "    i+=1\n",
    "    sum+=i\n",
    "    if(sum>=n):\n",
    "        print(i)\n",
    "        break"
   ]
  },
  {
   "cell_type": "code",
   "execution_count": 20,
   "id": "93e488af",
   "metadata": {},
   "outputs": [
    {
     "name": "stdout",
     "output_type": "stream",
     "text": [
      "2 3\n",
      "1 1\n",
      "1 2\n",
      "1 3\n",
      "2 1\n",
      "2 2\n",
      "2 3\n"
     ]
    }
   ],
   "source": [
    "n,m=map(int,input().split())\n",
    "for i in range(1,n+1):\n",
    "    for j in range(1,m+1):\n",
    "        print(i,j)"
   ]
  },
  {
   "cell_type": "code",
   "execution_count": 21,
   "id": "cd7caa2b",
   "metadata": {},
   "outputs": [
    {
     "name": "stdout",
     "output_type": "stream",
     "text": [
      "B\n",
      "B*1=B\n",
      "B*2=16\n",
      "B*3=21\n",
      "B*4=2C\n",
      "B*5=37\n",
      "B*6=42\n",
      "B*7=4D\n",
      "B*8=58\n",
      "B*9=63\n",
      "B*A=6E\n",
      "B*B=79\n",
      "B*C=84\n",
      "B*D=8F\n",
      "B*E=9A\n",
      "B*F=A5\n"
     ]
    }
   ],
   "source": [
    "#6081\n",
    "n=int(input(),16) #int(x,base=10) 진수 선택\n",
    "for i in range(1,16):\n",
    "    print('%X*%X=%X'%(n,i,n*i))"
   ]
  },
  {
   "cell_type": "code",
   "execution_count": 19,
   "id": "d15c0aba",
   "metadata": {},
   "outputs": [
    {
     "name": "stdout",
     "output_type": "stream",
     "text": [
      "9\n",
      "1 2 X 4 5 X 7 8 X "
     ]
    }
   ],
   "source": [
    "# 6082번 / hsgn21 / Python / 정확한 풀이\n",
    "# 코드 길이:214 byte(s) / 수행 시간:16 ms / 메모리 :27724 kb\n",
    "n=int(input())\n",
    "for i in range(1,n+1):\n",
    "    if i%10==3:\n",
    "        print(\"X\",end=' ')\n",
    "    elif i%10==6:\n",
    "        print(\"X\",end=' ')\n",
    "    elif i%10==9:\n",
    "        print(\"X\",end=' ')\n",
    "    else:\n",
    "        print(i,end=' ')"
   ]
  },
  {
   "cell_type": "code",
   "execution_count": 30,
   "id": "7afb0851",
   "metadata": {},
   "outputs": [
    {
     "name": "stdout",
     "output_type": "stream",
     "text": [
      "9\n",
      "1 2 X 4 5 X 7 8 X "
     ]
    }
   ],
   "source": [
    "# 6082번 / 모범 소스 / Python / 정확한 풀이\n",
    "# 코드 길이:140 byte(s) / 수행 시간:20 ms / 메모리 :33764 kb\n",
    "n = int(input())\n",
    "\n",
    "for i in range(1, n+1) :\n",
    "    if i%10==3 or i%10==6 or i%10==9 :\n",
    "        print(\"X\", end=' ')\n",
    "    else :\n",
    "        print(i, end=' ')"
   ]
  },
  {
   "cell_type": "code",
   "execution_count": 28,
   "id": "e248e9a3",
   "metadata": {},
   "outputs": [
    {
     "name": "stdout",
     "output_type": "stream",
     "text": [
      "2 2 2\n",
      "0 0 0\n",
      "0 0 1\n",
      "0 1 0\n",
      "0 1 1\n",
      "1 0 0\n",
      "1 0 1\n",
      "1 1 0\n",
      "1 1 1\n",
      "8\n"
     ]
    }
   ],
   "source": [
    "#6083번 / hsgn21 / Python / 정확한 풀이\n",
    "# 코드 길이:176 byte(s) / 수행 시간:2065 ms / 메모리 :27976 kb\n",
    "r,g,b=map(int,input().split())\n",
    "cnt=0\n",
    "for i in range(r):\n",
    "    for j in range(g):\n",
    "        for k in range(b):\n",
    "            print(i,j,k,end='\\n')\n",
    "            cnt+=1\n",
    "print(cnt)"
   ]
  },
  {
   "cell_type": "code",
   "execution_count": 29,
   "id": "b81a5ca0",
   "metadata": {},
   "outputs": [
    {
     "name": "stdout",
     "output_type": "stream",
     "text": [
      "2 2 2\n",
      "0 0 0\n",
      "0 0 1\n",
      "0 1 0\n",
      "0 1 1\n",
      "1 0 0\n",
      "1 0 1\n",
      "1 1 0\n",
      "1 1 1\n",
      "8\n"
     ]
    }
   ],
   "source": [
    "# 6083/ 모범 소스 / Python / 정확한 풀이정확한 풀이\n",
    "# 코드 길이:183 byte(s) / 수행 시간:2238 ms / 메모리 :34516 kb\n",
    "r, g, b = input().split()\n",
    "\n",
    "r = int(r)\n",
    "g = int(g)\n",
    "b = int(b)\n",
    "\n",
    "for i in range(0, r) :\n",
    "    for j in range(0, g) :\n",
    "        for k in range(0, b) :\n",
    "              print(i, j, k)\n",
    "\n",
    "print(r*g*b)"
   ]
  },
  {
   "cell_type": "code",
   "execution_count": 35,
   "id": "4c7c0d7d",
   "metadata": {},
   "outputs": [
    {
     "name": "stdout",
     "output_type": "stream",
     "text": [
      "44100 16 2 10\n",
      "1.7 MB\n"
     ]
    }
   ],
   "source": [
    "h,b,c,s=map(int,input().split())\n",
    "res=(h*b*c*s)/8/1024/1024\n",
    "print('%.1f MB' %res)"
   ]
  },
  {
   "cell_type": "code",
   "execution_count": 36,
   "id": "3faa7023",
   "metadata": {},
   "outputs": [
    {
     "name": "stdout",
     "output_type": "stream",
     "text": [
      "1024 768 24\n",
      "2.25 MB\n"
     ]
    }
   ],
   "source": [
    "w,h,b=map(int,input().split())\n",
    "res=(w*h*b)/8/1024/1024\n",
    "print('%.2f MB' %res)"
   ]
  },
  {
   "cell_type": "code",
   "execution_count": 16,
   "id": "b30926ac",
   "metadata": {},
   "outputs": [
    {
     "name": "stdout",
     "output_type": "stream",
     "text": [
      "100\n",
      "105\n"
     ]
    }
   ],
   "source": [
    "# 6086번 / hsgn21 / Python / 정확한 풀이\n",
    "# 코드 길이:117 byte(s) / 수행 시간:20 ms / 메모리 :27724 kb\n",
    "n=int(input())\n",
    "for i in range(100000000):\n",
    "    sum=int(i*(i+1)/2)\n",
    "    if sum>=n:\n",
    "        print(sum)\n",
    "        break"
   ]
  },
  {
   "cell_type": "code",
   "execution_count": 15,
   "id": "82e77aac",
   "metadata": {},
   "outputs": [
    {
     "name": "stdout",
     "output_type": "stream",
     "text": [
      "100\n",
      "105\n"
     ]
    }
   ],
   "source": [
    "# 6086번 / 모범 소스 / Python / 정확한 풀이\n",
    "# 코드 길이:106 byte(s) / 수행 시간:20 ms / 메모리 :33764 kb\n",
    "a=int(input())\n",
    "s=0\n",
    "c=0\n",
    "\n",
    "while True:\n",
    "    s=s+c\n",
    "    c=c+1\n",
    "    if s>=a:\n",
    "        break\n",
    "    \n",
    "print(s)"
   ]
  },
  {
   "cell_type": "code",
   "execution_count": 23,
   "id": "96778a78",
   "metadata": {},
   "outputs": [
    {
     "name": "stdout",
     "output_type": "stream",
     "text": [
      "10\n",
      "1 2 4 5 7 8 10 "
     ]
    }
   ],
   "source": [
    "n=int(input())\n",
    "for i in range(n+1):\n",
    "    if i%3==0:\n",
    "        print(end='')\n",
    "    else:\n",
    "        print(i,end=' ')"
   ]
  },
  {
   "cell_type": "code",
   "execution_count": 27,
   "id": "50f73650",
   "metadata": {},
   "outputs": [
    {
     "name": "stdout",
     "output_type": "stream",
     "text": [
      "1 3 5\n",
      "13\n"
     ]
    }
   ],
   "source": [
    "# 6088번 / hsgn21 / Python / 정확한 풀이\n",
    "# 코드 길이:57 byte(s) / 수행 시간:16 ms / 메모리 :27724 kb\n",
    "a,d,n=map(int,input().split())\n",
    "sum=a+(n-1)*d\n",
    "print(sum)"
   ]
  },
  {
   "cell_type": "code",
   "execution_count": 25,
   "id": "2891682b",
   "metadata": {},
   "outputs": [
    {
     "name": "stdout",
     "output_type": "stream",
     "text": [
      "1 3 5\n",
      "13\n"
     ]
    }
   ],
   "source": [
    "# 6088번 / 모범 소스 / Python / 정확한 풀이\n",
    "# 코드 길이:111 byte(s) / 수행 시간:22 ms / 메모리 :33764 kb\n",
    "a,d,n=map(int,input().split())\n",
    "s=a\n",
    "for i in range(2,n+1):\n",
    "    s+=d\n",
    "print(s)"
   ]
  },
  {
   "cell_type": "code",
   "execution_count": 28,
   "id": "31286ff8",
   "metadata": {},
   "outputs": [
    {
     "name": "stdout",
     "output_type": "stream",
     "text": [
      "2 3 7\n",
      "1458\n"
     ]
    }
   ],
   "source": [
    "a,r,n=map(int,input().split())\n",
    "s=a\n",
    "for i in range(2,n+1):\n",
    "    s*=r\n",
    "print(s)"
   ]
  },
  {
   "cell_type": "code",
   "execution_count": 36,
   "id": "4428a8bc",
   "metadata": {},
   "outputs": [
    {
     "name": "stdout",
     "output_type": "stream",
     "text": [
      "1 -2 1 8\n",
      "-85\n"
     ]
    }
   ],
   "source": [
    "a,m,d,n=map(int,input().split())\n",
    "for i in range(1,n):\n",
    "      a=(a*m)+d  \n",
    "print(a)"
   ]
  },
  {
   "cell_type": "code",
   "execution_count": 39,
   "id": "714290c7",
   "metadata": {},
   "outputs": [
    {
     "name": "stdout",
     "output_type": "stream",
     "text": [
      "3 7 9\n",
      "63\n"
     ]
    }
   ],
   "source": [
    "a,b,c=map(int,input().split())\n",
    "d=1\n",
    "while d%a!=0 or d%b!=0 or d%c!=0:\n",
    "    d+=1\n",
    "print(d)"
   ]
  },
  {
   "cell_type": "code",
   "execution_count": 40,
   "id": "12756149",
   "metadata": {},
   "outputs": [
    {
     "name": "stdout",
     "output_type": "stream",
     "text": [
      "5\n",
      "1 2 3 4 1\n",
      "21110000000000000000000"
     ]
    }
   ],
   "source": [
    "# 6092번 / 모범 소스 / Python / 정확한 풀이\n",
    "# 코드 길이:219 byte(s) / 수행 시간:23 ms / 메모리 :33976 kb\n",
    "#출석 번호를 부른 횟수\n",
    "n=int(input())\n",
    "#무작위로 부른 n개의 번호(1~23) 공백을 두고 순서대로 입력\n",
    "a=input().split()\n",
    "\n",
    "for i in range(n):\n",
    "    a[i]=int(a[i])\n",
    "d=[]\n",
    "for i in range(24):\n",
    "    d.append(0)\n",
    "for i in range(n):\n",
    "    d[a[i]]+=1\n",
    "for i in range(1,24):\n",
    "    print(d[i],end='')"
   ]
  },
  {
   "cell_type": "markdown",
   "id": "361de820",
   "metadata": {},
   "source": [
    "- d = []              #어떤 데이터 목록(list) 을 순서대로 저장하기 위해 아무것도 없는 리스트 변수 만들기\n",
    "- d.append(값)  #d 리스트의 마지막에 원하는 값을 추가(append)해 넣음 \n",
    "- d[a[i]] += 1     #2중 리스트 참조 : 만약 a[i]의 값이 1이었다면? d[1] += 1 이 실행되는 것이다. 1번 카운트 1개 증가.."
   ]
  },
  {
   "cell_type": "code",
   "execution_count": 51,
   "id": "b1e9223c",
   "metadata": {},
   "outputs": [
    {
     "name": "stdout",
     "output_type": "stream",
     "text": [
      "2\n",
      "1 1\n",
      "2 0 0 0 0 0 0 0 0 0 0 0 0 0 0 0 0 0 0 0 0 0 0 "
     ]
    }
   ],
   "source": [
    "# 6092번 / hsgn21 / Python / 정확한 풀이\n",
    "# 코드 길이:190 byte(s) / 수행 시간:17 ms / 메모리 :28156 kb\n",
    "n=int(input())\n",
    "a=input().split()\n",
    "stlist=list()\n",
    "for i in range(24):\n",
    "    stlist.append(0)\n",
    "for i in range(n):\n",
    "    stlist[int(a[i])]+=1\n",
    "for i in range(1,24):\n",
    "    print(stlist[i],end=' ')"
   ]
  },
  {
   "cell_type": "code",
   "execution_count": 71,
   "id": "e5444e13",
   "metadata": {},
   "outputs": [
    {
     "name": "stdout",
     "output_type": "stream",
     "text": [
      "4\n",
      "3 2 1 2\n",
      "2 1 2 3 "
     ]
    }
   ],
   "source": [
    "n=int(input())\n",
    "k=input().split()\n",
    "for i in range(n-1,-1,-1):\n",
    "    print(k[i],end=' ')"
   ]
  },
  {
   "cell_type": "code",
   "execution_count": 15,
   "id": "b837cffd",
   "metadata": {},
   "outputs": [
    {
     "name": "stdout",
     "output_type": "stream",
     "text": [
      "10\n",
      "10 4 2 3 4 5 6 7 9 10\n",
      "2\n"
     ]
    }
   ],
   "source": [
    "# 6094번 / hsgn21 / Python / 정확한 풀이\n",
    "# 코드 길이:126 byte(s) / 수행 시간:17 ms / 메모리 :27724 kb\n",
    "n=int(input())\n",
    "a=list(map(int,input().split()))\n",
    "min=a[0]\n",
    "for i in range(n):\n",
    "    if min>a[i]:\n",
    "        min=a[i]\n",
    "print(min)"
   ]
  },
  {
   "cell_type": "code",
   "execution_count": 16,
   "id": "563ab17d",
   "metadata": {
    "scrolled": true
   },
   "outputs": [
    {
     "name": "stdout",
     "output_type": "stream",
     "text": [
      "10\n",
      "10 4 2 3 4 5 6 7 9 10\n",
      "2\n"
     ]
    }
   ],
   "source": [
    "# 6094번 / 모범 소스 / Python / 정확한 풀이\n",
    "# 코드 길이:169 byte(s) / 수행 시간:19 ms / 메모리 :33756 kb\n",
    "n = int(input())\n",
    "a = input().split()\n",
    "\n",
    "for i in range(n) :\n",
    "    a[i] = int(a[i])\n",
    "\n",
    "min = a[0]\n",
    "for i in range(0, n) :\n",
    "    if a[i] < min :\n",
    "        min = a[i]\n",
    "\n",
    "print(min)"
   ]
  },
  {
   "cell_type": "code",
   "execution_count": 3,
   "id": "b36565df",
   "metadata": {},
   "outputs": [
    {
     "name": "stdout",
     "output_type": "stream",
     "text": [
      "4\n",
      "1 1\n",
      "2 2\n",
      "3 3\n",
      "4 4\n",
      "1 0 0 0 0 0 0 0 0 0 0 0 0 0 0 0 0 0 0 \n",
      "0 1 0 0 0 0 0 0 0 0 0 0 0 0 0 0 0 0 0 \n",
      "0 0 1 0 0 0 0 0 0 0 0 0 0 0 0 0 0 0 0 \n",
      "0 0 0 1 0 0 0 0 0 0 0 0 0 0 0 0 0 0 0 \n",
      "0 0 0 0 0 0 0 0 0 0 0 0 0 0 0 0 0 0 0 \n",
      "0 0 0 0 0 0 0 0 0 0 0 0 0 0 0 0 0 0 0 \n",
      "0 0 0 0 0 0 0 0 0 0 0 0 0 0 0 0 0 0 0 \n",
      "0 0 0 0 0 0 0 0 0 0 0 0 0 0 0 0 0 0 0 \n",
      "0 0 0 0 0 0 0 0 0 0 0 0 0 0 0 0 0 0 0 \n",
      "0 0 0 0 0 0 0 0 0 0 0 0 0 0 0 0 0 0 0 \n",
      "0 0 0 0 0 0 0 0 0 0 0 0 0 0 0 0 0 0 0 \n",
      "0 0 0 0 0 0 0 0 0 0 0 0 0 0 0 0 0 0 0 \n",
      "0 0 0 0 0 0 0 0 0 0 0 0 0 0 0 0 0 0 0 \n",
      "0 0 0 0 0 0 0 0 0 0 0 0 0 0 0 0 0 0 0 \n",
      "0 0 0 0 0 0 0 0 0 0 0 0 0 0 0 0 0 0 0 \n",
      "0 0 0 0 0 0 0 0 0 0 0 0 0 0 0 0 0 0 0 \n",
      "0 0 0 0 0 0 0 0 0 0 0 0 0 0 0 0 0 0 0 \n",
      "0 0 0 0 0 0 0 0 0 0 0 0 0 0 0 0 0 0 0 \n",
      "0 0 0 0 0 0 0 0 0 0 0 0 0 0 0 0 0 0 0 \n"
     ]
    }
   ],
   "source": [
    "# 6095번 / 모범 소스 / Python / 정확한 풀이\n",
    "# 코드 길이:278 byte(s) / 수행 시간:23 ms / 메모리 :33764 kb\n",
    "d=[]\n",
    "for i in range(20):\n",
    "    d.append([])\n",
    "    for j in range(20):\n",
    "        d[i].append(0)\n",
    "n=int(input())\n",
    "for i in range(n):\n",
    "    x,y=input().split()\n",
    "    d[int(x)][int(y)]=1\n",
    "    \n",
    "#   x, y = map(int, input().split())\n",
    "#   d[x][y] = 1\n",
    "    \n",
    "    \n",
    "for i in range(1,20):\n",
    "    for j in range(1,20):\n",
    "        print(d[i][j],end=' ')\n",
    "    print()"
   ]
  },
  {
   "cell_type": "code",
   "execution_count": 15,
   "id": "368ca616",
   "metadata": {},
   "outputs": [
    {
     "name": "stdout",
     "output_type": "stream",
     "text": [
      "2\n",
      "10 10\n",
      "12 12 \n",
      "0 0 0 0 0 0 0 0 0 1 0 1 0 0 0 0 0 0 0 \n",
      "0 0 0 0 0 0 0 0 0 1 0 1 0 0 0 0 0 0 0 \n",
      "0 0 0 0 0 0 0 0 0 1 0 1 0 0 0 0 0 0 0 \n",
      "0 0 0 0 0 0 0 0 0 1 0 1 0 0 0 0 0 0 0 \n",
      "0 0 0 0 0 0 0 0 0 1 0 1 0 0 0 0 0 0 0 \n",
      "0 0 0 0 0 0 0 0 0 1 0 1 0 0 0 0 0 0 0 \n",
      "0 0 0 0 0 0 0 0 0 1 0 1 0 0 0 0 0 0 0 \n",
      "0 0 0 0 0 0 0 0 0 1 0 1 0 0 0 0 0 0 0 \n",
      "0 0 0 0 0 0 0 0 0 1 0 1 0 0 0 0 0 0 0 \n",
      "0 0 0 0 0 0 0 0 0 1 0 1 0 0 0 0 0 0 0 \n",
      "0 0 0 0 0 0 0 0 0 1 0 1 0 0 0 0 0 0 0 \n",
      "0 0 0 0 0 0 0 0 0 1 0 1 0 0 0 0 0 0 0 \n",
      "0 0 0 0 0 0 0 0 0 1 0 1 0 0 0 0 0 0 0 \n",
      "0 0 0 0 0 0 0 0 0 1 0 1 0 0 0 0 0 0 0 \n",
      "0 0 0 0 0 0 0 0 0 1 0 1 0 0 0 0 0 0 0 \n",
      "0 0 0 0 0 0 0 0 0 1 0 1 0 0 0 0 0 0 0 \n",
      "0 0 0 0 0 0 0 0 0 1 0 1 0 0 0 0 0 0 0 \n",
      "0 0 0 0 0 0 0 0 0 1 0 1 0 0 0 0 0 0 0 \n",
      "0 0 0 0 0 0 0 0 0 1 0 1 0 0 0 0 0 0 0 \n"
     ]
    }
   ],
   "source": [
    "d=[] #벡터 생성\n",
    "for i in range(20):\n",
    "    d.append([])\n",
    "    for j in range(20):\n",
    "        d[i].append(0)\n",
    "n=int(input()) #n: 뒤집기 횟수\n",
    "for i in range(n):\n",
    "    x,y=map(int,input().split()) #뒤집는 좌표 입력\n",
    "    for j in range(1,20):\n",
    "        if d[j][y]==0: \n",
    "            d[j][y]=1\n",
    "        else:\n",
    "            d[j][y]=0\n",
    "            \n",
    "        if d[x][j]==0:\n",
    "            d[x][j]=1\n",
    "        else:\n",
    "            d[x][j]=0 \n",
    "            \n",
    "for i in range(1,20):\n",
    "    for j in range(1,20):\n",
    "        print(d[i][j],end=' ')\n",
    "    print()"
   ]
  },
  {
   "cell_type": "code",
   "execution_count": null,
   "id": "a40ac4fa",
   "metadata": {},
   "outputs": [],
   "source": []
  },
  {
   "cell_type": "code",
   "execution_count": null,
   "id": "f5fefe81",
   "metadata": {},
   "outputs": [],
   "source": []
  },
  {
   "cell_type": "code",
   "execution_count": null,
   "id": "57255a88",
   "metadata": {},
   "outputs": [],
   "source": []
  },
  {
   "cell_type": "code",
   "execution_count": null,
   "id": "c0467530",
   "metadata": {},
   "outputs": [],
   "source": []
  },
  {
   "cell_type": "code",
   "execution_count": null,
   "id": "b3fc46f6",
   "metadata": {},
   "outputs": [],
   "source": []
  },
  {
   "cell_type": "code",
   "execution_count": null,
   "id": "72bec72a",
   "metadata": {},
   "outputs": [],
   "source": []
  },
  {
   "cell_type": "code",
   "execution_count": null,
   "id": "d2a7335d",
   "metadata": {},
   "outputs": [],
   "source": []
  },
  {
   "cell_type": "code",
   "execution_count": null,
   "id": "aee1c680",
   "metadata": {},
   "outputs": [],
   "source": []
  },
  {
   "cell_type": "code",
   "execution_count": null,
   "id": "e497b92d",
   "metadata": {},
   "outputs": [],
   "source": []
  },
  {
   "cell_type": "code",
   "execution_count": null,
   "id": "78ebe831",
   "metadata": {},
   "outputs": [],
   "source": []
  },
  {
   "cell_type": "code",
   "execution_count": null,
   "id": "45b0e761",
   "metadata": {},
   "outputs": [],
   "source": []
  },
  {
   "cell_type": "code",
   "execution_count": null,
   "id": "bb8f952b",
   "metadata": {},
   "outputs": [],
   "source": []
  },
  {
   "cell_type": "code",
   "execution_count": null,
   "id": "63e0e39c",
   "metadata": {},
   "outputs": [],
   "source": []
  }
 ],
 "metadata": {
  "kernelspec": {
   "display_name": "Python 3 (ipykernel)",
   "language": "python",
   "name": "python3"
  },
  "language_info": {
   "codemirror_mode": {
    "name": "ipython",
    "version": 3
   },
   "file_extension": ".py",
   "mimetype": "text/x-python",
   "name": "python",
   "nbconvert_exporter": "python",
   "pygments_lexer": "ipython3",
   "version": "3.9.13"
  },
  "vscode": {
   "interpreter": {
    "hash": "31f2aee4e71d21fbe5cf8b01ff0e069b9275f58929596ceb00d14d90e3e16cd6"
   }
  }
 },
 "nbformat": 4,
 "nbformat_minor": 5
}
