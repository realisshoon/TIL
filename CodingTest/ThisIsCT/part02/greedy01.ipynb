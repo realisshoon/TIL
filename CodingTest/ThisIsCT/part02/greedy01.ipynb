{
 "cells": [
  {
   "cell_type": "markdown",
   "id": "bd6df731",
   "metadata": {},
   "source": [
    "# 거스름돈 "
   ]
  },
  {
   "cell_type": "code",
   "execution_count": 1,
   "id": "db0d7ca7",
   "metadata": {},
   "outputs": [],
   "source": [
    "n=1260\n",
    "count=0"
   ]
  },
  {
   "cell_type": "code",
   "execution_count": 2,
   "id": "4effe8fc",
   "metadata": {},
   "outputs": [],
   "source": [
    "coin_type=[500,100,50,10]"
   ]
  },
  {
   "cell_type": "code",
   "execution_count": 3,
   "id": "8b1cea4d",
   "metadata": {},
   "outputs": [
    {
     "name": "stdout",
     "output_type": "stream",
     "text": [
      "6\n"
     ]
    }
   ],
   "source": [
    "for coin in coin_type:\n",
    "    count+=n//coin\n",
    "    n%=coin\n",
    "    \n",
    "print(count)"
   ]
  },
  {
   "cell_type": "markdown",
   "id": "a79dc2ef",
   "metadata": {},
   "source": [
    "# 큰 수의 법칙"
   ]
  },
  {
   "cell_type": "markdown",
   "id": "e4ce150f",
   "metadata": {},
   "source": [
    "- 아래 해결 방법은 M(몇 번 더할지)의 크기가 100억 이상처럼 커지면 시간 초과를 받음\n",
    "- 반복되는 수열에 대해서 파악해야함"
   ]
  },
  {
   "cell_type": "code",
   "execution_count": 18,
   "id": "ca40f481",
   "metadata": {},
   "outputs": [
    {
     "name": "stdout",
     "output_type": "stream",
     "text": [
      "10 100 4\n",
      "2 4 5 4 3 6 7 8 9 2\n",
      "880\n",
      "0.0002028942108154297\n"
     ]
    }
   ],
   "source": [
    "import time\n",
    "n,m,k=map(int,input().split())\n",
    "n_list=list(map(int,input().split()))\n",
    "        \n",
    "n_list.sort()           # 입력 받은 수 정렬\n",
    "first=n_list[n-1]       \n",
    "second=n_list[n-2]\n",
    "\n",
    "result=0\n",
    "st=time.time()\n",
    "while True:\n",
    "    for i in range(k):\n",
    "        if m ==0:\n",
    "            break\n",
    "        result+=first\n",
    "        m-=1\n",
    "    if m==0:\n",
    "        break\n",
    "    result+=second\n",
    "    m-=1\n",
    "\n",
    "et=time.time()\n",
    "\n",
    "print(result)\n",
    "print(et-st)"
   ]
  },
  {
   "cell_type": "code",
   "execution_count": 19,
   "id": "80207d9a",
   "metadata": {},
   "outputs": [
    {
     "name": "stdout",
     "output_type": "stream",
     "text": [
      "10 100 4\n",
      "2 4 5 4 3 6 7 8 9 2\n",
      "880\n",
      "0.0001957416534423828\n"
     ]
    }
   ],
   "source": [
    "## 대안책\n",
    "\n",
    "n,m,k=map(int,input().split())\n",
    "n_list=list(map(int,input().split()))\n",
    "        \n",
    "n_list.sort()           # 입력 받은 수 정렬\n",
    "first=n_list[n-1]       \n",
    "second=n_list[n-2]\n",
    "\n",
    "st=time.time()\n",
    "# 가장 큰 수가 더해지는 횟수 계산\n",
    "count=int(m/(k+1))*k\n",
    "count+=m%(k+1)\n",
    "\n",
    "result=0\n",
    "result+=(count)*first\n",
    "result+=(m-count)*second\n",
    "et=time.time()\n",
    "\n",
    "\n",
    "print(result)\n",
    "print(et-st)"
   ]
  },
  {
   "cell_type": "code",
   "execution_count": 15,
   "id": "af24ed46",
   "metadata": {},
   "outputs": [
    {
     "name": "stdout",
     "output_type": "stream",
     "text": [
      "6.0\n"
     ]
    }
   ],
   "source": []
  },
  {
   "cell_type": "code",
   "execution_count": null,
   "id": "c143df8b",
   "metadata": {},
   "outputs": [],
   "source": []
  }
 ],
 "metadata": {
  "kernelspec": {
   "display_name": "Python 3 (ipykernel)",
   "language": "python",
   "name": "python3"
  },
  "language_info": {
   "codemirror_mode": {
    "name": "ipython",
    "version": 3
   },
   "file_extension": ".py",
   "mimetype": "text/x-python",
   "name": "python",
   "nbconvert_exporter": "python",
   "pygments_lexer": "ipython3",
   "version": "3.9.13"
  }
 },
 "nbformat": 4,
 "nbformat_minor": 5
}
