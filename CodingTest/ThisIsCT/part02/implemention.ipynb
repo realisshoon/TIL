{
 "cells": [
  {
   "cell_type": "markdown",
   "metadata": {},
   "source": [
    "### 예제 4-1 상하좌우\n",
    "\n",
    "- n : 지도의 크기\n",
    "- plans : R L U D "
   ]
  },
  {
   "cell_type": "code",
   "execution_count": 5,
   "metadata": {},
   "outputs": [
    {
     "name": "stdout",
     "output_type": "stream",
     "text": [
      "2 3\n"
     ]
    }
   ],
   "source": [
    "n = int(input())\n",
    "plans = list(input().split()) \n",
    "x,y=1,1\n",
    "\n",
    "\n",
    "dx=[0,0,-1,1]\n",
    "dy=[-1,1,0,0]\n",
    "move_types=['L','R','U','D']\n",
    "\n",
    "for plan in plans:\n",
    "    for i in range(len(move_types)):\n",
    "        if plan == move_types[i]:\n",
    "            nx = x + dy[i]\n",
    "            ny = y + dx[i]\n",
    "        \n",
    "    if nx < 1 or ny < 1 or nx > n or ny > n :\n",
    "        continue\n",
    "    x, y = nx, ny\n",
    "\n",
    "print(x,y)"
   ]
  },
  {
   "cell_type": "markdown",
   "metadata": {},
   "source": [
    "### 예제 4-2 시각\n",
    "\n",
    "정수 N이 입력되면 00시 00분 00초 부터 N시 59분 59초까지의 모든 시각 중에 3이 포함되는 모든 경우의 수\n",
    "\n",
    "ex) \n",
    "\n",
    "n = 1 \n",
    "\n",
    "00시 00분 00초 ~ 1시 59분 59초\n",
    "\n",
    "- 00시 00분 03초\n",
    "- 00시 33분 33초\n",
    "- 00시 13분 30초\n",
    "- ..."
   ]
  },
  {
   "cell_type": "code",
   "execution_count": 6,
   "metadata": {},
   "outputs": [
    {
     "name": "stdout",
     "output_type": "stream",
     "text": [
      "1575\n"
     ]
    }
   ],
   "source": [
    "n = int(input())\n",
    "\n",
    "count = 0\n",
    "for i in range(n+1):\n",
    "    for j in range(60):\n",
    "        for k in range(60):\n",
    "            if '3' in str(i) + str(j) + str(k):\n",
    "                count+=1\n",
    "print(count)"
   ]
  },
  {
   "cell_type": "markdown",
   "metadata": {},
   "source": [
    "### 왕실나이트\n",
    "\n",
    "- L 자로만 이동 가능 \n",
    "    - 수평 수평 수직\n",
    "    - 수직 수직 수평\n",
    "- 8x8 벗어나면 안 됨\n",
    "- 이동 할 수 있는 경우의 수를 출력\n"
   ]
  },
  {
   "cell_type": "code",
   "execution_count": 18,
   "metadata": {},
   "outputs": [
    {
     "name": "stdout",
     "output_type": "stream",
     "text": [
      "2\n"
     ]
    }
   ],
   "source": [
    "input_data=input()\n",
    "row = int(input_data[1])\n",
    "column = (int(ord(input_data[0]) - int(ord('a')))) + 1\n",
    "\n",
    "steps = [(2,1),(1,2),(-2,1),(-1,2),(-2,-1),(-1,-2),(2,-1),(2,-1)]\n",
    "\n",
    "result = 0\n",
    "\n",
    "for step in steps:\n",
    "\tnext_row = row + step[0]\n",
    "\tnext_column = column + step[1]\n",
    "\n",
    "\tif next_row >= 1 and next_row <= 8 and next_column >= 1 and next_column <= 8:\n",
    "\t\tresult+=1\n",
    "\n",
    "print(result)"
   ]
  },
  {
   "cell_type": "code",
   "execution_count": 23,
   "metadata": {},
   "outputs": [
    {
     "name": "stdout",
     "output_type": "stream",
     "text": [
      "6\n"
     ]
    }
   ],
   "source": [
    "input_data=input()\n",
    "row = int(input_data[1])\n",
    "column = (int(ord(input_data[0]) - int(ord('a')))) + 1\n",
    "\n",
    "steps = [(2,1),(1,2),(-2,1),(-1,2),(-2,-1),(-1,-2),(2,-1),(2,-1)]\n",
    "\n",
    "result = 0\n",
    "\n",
    "for step in steps:\n",
    "\tnext_row = row + step[0]\n",
    "\tnext_column = column + step[1]\n",
    "\n",
    "\tif next_row >= 1 and next_row <= 8 and next_column >= 1 and next_column <= 8:\n",
    "\t\tresult+=1\n",
    "\n",
    "print(result)"
   ]
  },
  {
   "cell_type": "markdown",
   "metadata": {},
   "source": [
    "### 게임개발\n",
    "규칙\n",
    "1. 왼쪽 방향으로 회전\n",
    "2. 왼쪽에 \n",
    "    - 가보지 않았으면 한칸 전진\n",
    "    - 가봤으면 회전만 수행하고 1로 돌아감\n",
    "3. 네 방향 다 가봄 or 바닷가 -> 바라보는 방향 유지 -> 뒤로 한 칸 1로 회귀\n",
    "    - 뒤에 바다면 움직임 멈춤\n",
    "#### 1) 맵의 크기 \n",
    "(N,M)\n",
    "- N : 세로 , M : 가로\n",
    "#### 2) 게임 캐릭터가 있는 칸 (A,B)와 바라보는 방향(d)\n",
    "(A,B,d)\n",
    "- A : 북쪽으로부터 떨어진 칸의 개수 (행)\n",
    "- B : 서쪽으로부터 떨어진 칸의 개수 (열)\n",
    "d\n",
    "- 0 : 북, 1 : 동, 2 : 남, 3: 서\n",
    "#### 3) 이후에는 육지인지 바다인지 맴에 대한 정보\n",
    "- 0 : 육지, 1 : 바다"
   ]
  },
  {
   "cell_type": "code",
   "execution_count": null,
   "metadata": {},
   "outputs": [],
   "source": [
    "# 1) 입력 받기\n",
    "n,m = map(int,input().split())\n",
    "# 2차원 배열 초기화\n",
    "d = [[0] * m for _ in range(n)]\n",
    "\n",
    "# 2) 입력 받기\n",
    "x,y,direction = map(int,input().split())\n",
    "\n",
    "d[x][y] = 1 # 현재 좌표 방문처리\n",
    "\n",
    "array = []\n",
    "\n",
    "\n",
    "dx = [-1,0,1,0]\n",
    "dy = [0,1,0,-1]\n",
    "\n",
    "for i in range(n):\n",
    "    array.append(list(map(int,input().split())))\n",
    "\n",
    "def turn_left():\n",
    "    global direction\n",
    "    # 반시계방향으로 회전\n",
    "    direction -= 1 \n",
    "    # 북쪽일 경우\n",
    "    if direction == -1: \n",
    "        direction = 3\n",
    "\n",
    "count = 1 \n",
    "turn_time = 0\n",
    "while True:\n",
    "    turn_left()\n",
    "    nx = x + dx[direction]\n",
    "    ny = y + dy[direction]\n",
    "    # 회전한 이후 정면에 가보지 않은 칸이면서 육지임\n",
    "    if d[nx][ny] == 0 and array[nx][ny] == 0:\n",
    "        # 이동\n",
    "        d[nx][ny] = 1 \n",
    "        x = nx\n",
    "        y = ny\n",
    "        count += 1\n",
    "        turn_time = 0\n",
    "        continue\n",
    "    # 회전한 이후 가본 칸이거나 바다임\n",
    "    else:\n",
    "        turn_time += 1\n",
    "    \n",
    "    if turn_time == 4 :\n",
    "        nx = x - dx[direction]\n",
    "        ny = y - dy[direction]\n",
    "        if array[nx][ny] == 0:\n",
    "            x = nx\n",
    "            y = ny\n",
    "        else:\n",
    "            break\n",
    "        turn_time = 0\n",
    "\n",
    "print(count)\n",
    "        \n",
    "\n",
    "\n",
    "\n"
   ]
  }
 ],
 "metadata": {
  "language_info": {
   "name": "python"
  }
 },
 "nbformat": 4,
 "nbformat_minor": 2
}
