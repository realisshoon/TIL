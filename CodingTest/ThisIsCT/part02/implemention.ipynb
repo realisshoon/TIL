{
 "cells": [
  {
   "cell_type": "markdown",
   "metadata": {},
   "source": [
    "### 예제 4-1 상하좌우\n",
    "\n",
    "- n : 지도의 크기\n",
    "- plans : R L U D "
   ]
  },
  {
   "cell_type": "code",
   "execution_count": 5,
   "metadata": {},
   "outputs": [
    {
     "name": "stdout",
     "output_type": "stream",
     "text": [
      "2 3\n"
     ]
    }
   ],
   "source": [
    "n = int(input())\n",
    "plans = list(input().split()) \n",
    "x,y=1,1\n",
    "\n",
    "\n",
    "dx=[0,0,-1,1]\n",
    "dy=[-1,1,0,0]\n",
    "move_types=['L','R','U','D']\n",
    "\n",
    "for plan in plans:\n",
    "    for i in range(len(move_types)):\n",
    "        if plan == move_types[i]:\n",
    "            nx = x + dy[i]\n",
    "            ny = y + dx[i]\n",
    "        \n",
    "    if nx < 1 or ny < 1 or nx > n or ny > n :\n",
    "        continue\n",
    "    x, y = nx, ny\n",
    "\n",
    "print(x,y)"
   ]
  },
  {
   "cell_type": "markdown",
   "metadata": {},
   "source": [
    "### 예제 4-2 시각\n",
    "\n",
    "정수 N이 입력되면 00시 00분 00초 부터 N시 59분 59초까지의 모든 시각 중에 3이 포함되는 모든 경우의 수\n",
    "\n",
    "ex) \n",
    "\n",
    "n = 1 \n",
    "\n",
    "00시 00분 00초 ~ 1시 59분 59초\n",
    "\n",
    "- 00시 00분 03초\n",
    "- 00시 33분 33초\n",
    "- 00시 13분 30초\n",
    "- ..."
   ]
  },
  {
   "cell_type": "code",
   "execution_count": 6,
   "metadata": {},
   "outputs": [
    {
     "name": "stdout",
     "output_type": "stream",
     "text": [
      "1575\n"
     ]
    }
   ],
   "source": [
    "n = int(input())\n",
    "\n",
    "count = 0\n",
    "for i in range(n+1):\n",
    "    for j in range(60):\n",
    "        for k in range(60):\n",
    "            if '3' in str(i) + str(j) + str(k):\n",
    "                count+=1\n",
    "print(count)"
   ]
  },
  {
   "cell_type": "code",
   "execution_count": null,
   "metadata": {},
   "outputs": [],
   "source": []
  }
 ],
 "metadata": {
  "language_info": {
   "name": "python"
  }
 },
 "nbformat": 4,
 "nbformat_minor": 2
}
